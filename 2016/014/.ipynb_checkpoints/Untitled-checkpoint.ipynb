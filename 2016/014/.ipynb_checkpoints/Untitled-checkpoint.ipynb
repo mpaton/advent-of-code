{
 "cells": [
  {
   "cell_type": "code",
   "execution_count": 2,
   "metadata": {
    "collapsed": false
   },
   "outputs": [],
   "source": [
    "import pandas as pd\n",
    "import numpy as np\n",
    "import math\n",
    "import collections\n",
    "import re\n",
    "import sys\n",
    "import itertools"
   ]
  },
  {
   "cell_type": "code",
   "execution_count": 34,
   "metadata": {
    "collapsed": false
   },
   "outputs": [
    {
     "name": "stdout",
     "output_type": "stream",
     "text": [
      "('22222', '2')\n",
      "found one 15496 2\n",
      "('22222', '2')\n",
      "found one 15496 2\n",
      "('22222', '2')\n",
      "found one 15498 2\n",
      "('22222', '2')\n",
      "found one 15498 2\n",
      "('22222', '2')\n",
      "found one 15594 2\n",
      "('22222', '2')\n",
      "found one 15594 2\n",
      "('22222', '2')\n",
      "found one 15658 2\n",
      "('22222', '2')\n",
      "found one 15658 2\n",
      "('aaaaa', 'a')\n",
      "found one 15828 a\n",
      "('22222', '2')\n",
      "found one 15936 2\n",
      "('22222', '2')\n",
      "found one 15936 2\n",
      "('aaaaa', 'a')\n",
      "found one 15939 a\n",
      "('22222', '2')\n",
      "found one 16025 2\n",
      "('aaaaa', 'a')\n",
      "found one 16105 a\n",
      "('00000', '0')\n",
      "found one 16771 0\n",
      "('00000', '0')\n",
      "found one 16851 0\n",
      "('00000', '0')\n",
      "found one 16980 0\n"
     ]
    },
    {
     "ename": "KeyboardInterrupt",
     "evalue": "",
     "output_type": "error",
     "traceback": [
      "\u001b[1;31m---------------------------------------------------------------------------\u001b[0m",
      "\u001b[1;31mKeyboardInterrupt\u001b[0m                         Traceback (most recent call last)",
      "\u001b[1;32m<ipython-input-34-a9c9db3ccdff>\u001b[0m in \u001b[0;36m<module>\u001b[1;34m()\u001b[0m\n\u001b[0;32m     30\u001b[0m                 \u001b[0mm\u001b[0m\u001b[1;33m.\u001b[0m\u001b[0mupdate\u001b[0m\u001b[1;33m(\u001b[0m\u001b[0msalt\u001b[0m \u001b[1;33m+\u001b[0m \u001b[0mstr\u001b[0m\u001b[1;33m(\u001b[0m\u001b[0mnew_idx\u001b[0m\u001b[1;33m)\u001b[0m\u001b[1;33m)\u001b[0m\u001b[1;33m\u001b[0m\u001b[0m\n\u001b[0;32m     31\u001b[0m                 \u001b[1;32mfor\u001b[0m \u001b[0mi\u001b[0m \u001b[1;32min\u001b[0m \u001b[0mrange\u001b[0m\u001b[1;33m(\u001b[0m\u001b[1;36m2016\u001b[0m\u001b[1;33m)\u001b[0m\u001b[1;33m:\u001b[0m\u001b[1;33m\u001b[0m\u001b[0m\n\u001b[1;32m---> 32\u001b[1;33m                     \u001b[0mnewhash\u001b[0m \u001b[1;33m=\u001b[0m \u001b[0mm\u001b[0m\u001b[1;33m.\u001b[0m\u001b[0mhexdigest\u001b[0m\u001b[1;33m(\u001b[0m\u001b[1;33m)\u001b[0m\u001b[1;33m\u001b[0m\u001b[0m\n\u001b[0m\u001b[0;32m     33\u001b[0m                     \u001b[0mm\u001b[0m \u001b[1;33m=\u001b[0m \u001b[0mmd5\u001b[0m\u001b[1;33m.\u001b[0m\u001b[0mnew\u001b[0m\u001b[1;33m(\u001b[0m\u001b[1;33m)\u001b[0m\u001b[1;33m\u001b[0m\u001b[0m\n\u001b[0;32m     34\u001b[0m                     \u001b[0mm\u001b[0m\u001b[1;33m.\u001b[0m\u001b[0mupdate\u001b[0m\u001b[1;33m(\u001b[0m\u001b[0mnewhash\u001b[0m\u001b[1;33m)\u001b[0m\u001b[1;33m\u001b[0m\u001b[0m\n",
      "\u001b[1;31mKeyboardInterrupt\u001b[0m: "
     ]
    }
   ],
   "source": [
    "import md5\n",
    "salt = 'cuanljph'\n",
    "\n",
    "stop = False\n",
    "idx = 0\n",
    "keys = {}\n",
    "valid_keys = []\n",
    "while stop == False:\n",
    "    if idx not in keys:\n",
    "        m = md5.new()\n",
    "        m.update(salt + str(idx))\n",
    "        \n",
    "        for i in range(2016):\n",
    "            newhash = m.hexdigest()\n",
    "            m = md5.new()\n",
    "            m.update(newhash)\n",
    "            \n",
    "        key = str(m.hexdigest())\n",
    "        keys[idx] = key\n",
    "    repeated_chars = re.findall(r'-?((\\w)\\2{2,})',keys[idx])\n",
    "\n",
    "    ## we found one.\n",
    "    if len(repeated_chars) > 0:\n",
    "        repeater = repeated_chars[0][1]\n",
    "        \n",
    "        for idx2 in range(1000):\n",
    "            new_idx = idx2+idx+1\n",
    "            if new_idx not in keys:\n",
    "                m = md5.new()\n",
    "                m.update(salt + str(new_idx))\n",
    "                for i in range(2016):\n",
    "                    newhash = m.hexdigest()\n",
    "                    m = md5.new()\n",
    "                    m.update(newhash)\n",
    "                key2 = str(m.hexdigest())\n",
    "                keys[new_idx] = key2\n",
    "                \n",
    "            repeater5 = re.findall(r\"-?((\\w)\\2{4,})\",keys[new_idx])\n",
    "            found = False\n",
    "            if len(repeater5) > 0:\n",
    "                for cand in repeater5:\n",
    "                    if cand[1] == repeater:\n",
    "                        print 'found one ' + str(idx) + ' ' + repeater\n",
    "                        if found == False:\n",
    "                            valid_keys.append(idx)\n",
    "                            found = True\n",
    "    idx += 1\n",
    "    if len(valid_keys) > 64:\n",
    "        stop = True\n",
    "        \n",
    "print valid_keys[63]"
   ]
  },
  {
   "cell_type": "code",
   "execution_count": 32,
   "metadata": {
    "collapsed": false
   },
   "outputs": [
    {
     "name": "stdout",
     "output_type": "stream",
     "text": [
      "167e722226fcc54b76ba11add75ea3fd\n"
     ]
    }
   ],
   "source": [
    "print keys[15496]"
   ]
  },
  {
   "cell_type": "code",
   "execution_count": null,
   "metadata": {
    "collapsed": true
   },
   "outputs": [],
   "source": []
  }
 ],
 "metadata": {
  "kernelspec": {
   "display_name": "Python 2",
   "language": "python",
   "name": "python2"
  },
  "language_info": {
   "codemirror_mode": {
    "name": "ipython",
    "version": 2
   },
   "file_extension": ".py",
   "mimetype": "text/x-python",
   "name": "python",
   "nbconvert_exporter": "python",
   "pygments_lexer": "ipython2",
   "version": "2.7.6"
  }
 },
 "nbformat": 4,
 "nbformat_minor": 0
}
