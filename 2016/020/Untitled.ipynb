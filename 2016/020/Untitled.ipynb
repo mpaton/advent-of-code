{
 "cells": [
  {
   "cell_type": "code",
   "execution_count": 2,
   "metadata": {
    "collapsed": false
   },
   "outputs": [],
   "source": [
    "import pandas as pd\n",
    "import numpy as np\n",
    "import math\n",
    "import collections\n",
    "import re\n",
    "import sys\n",
    "import itertools"
   ]
  },
  {
   "cell_type": "code",
   "execution_count": 13,
   "metadata": {
    "collapsed": false
   },
   "outputs": [
    {
     "name": "stdout",
     "output_type": "stream",
     "text": [
      "minimum: 23923783\n",
      "# of free: 125\n"
     ]
    }
   ],
   "source": [
    "data = pd.read_csv('./input.txt',header=None,delimiter='\\n')\n",
    "commands = [line[0].split(' ') for line in data.values]\n",
    "\n",
    "blocked= []\n",
    "for command in commands:\n",
    "    bsplit = command[0].split('-')\n",
    "    blocked.append((int(bsplit[0]),int(bsplit[1])))\n",
    "    \n",
    "blocked = sorted(blocked, key=lambda x: x[0])\n",
    "\n",
    "lower = blocked[0][0]\n",
    "upper = blocked[0][1]\n",
    "\n",
    "num_free = 0\n",
    "min_value = 0\n",
    "max_int =0xFFFFFFFF\n",
    "\n",
    "for bounds in blocked:\n",
    "    # m------m\n",
    "    #              m-------m\n",
    "    ## non overlapping\n",
    "    if bounds[0] > (upper+1):\n",
    "        if min_value == 0:\n",
    "            min_value = upper+1\n",
    "        #add values between bounds[0] and upper\n",
    "        num_free += bounds[0] - upper -1\n",
    "        lower = bounds[0]\n",
    "        upper = bounds[1]\n",
    "    # m-------m\n",
    "    #     m----------m\n",
    "    elif bounds[0] <= upper and bounds[1] >= upper:\n",
    "        upper = bounds[1]\n",
    "    # m-------m\n",
    "    #         m-------m\n",
    "    elif bounds[0] == upper or bounds[0] == upper+1:\n",
    "        upper = bounds[1]\n",
    "        \n",
    "if upper < max_int-1:\n",
    "    num_free += max_int-upper-1\n",
    "print \"minimum: \" + str(min_value)\n",
    "print \"# of free: \" + str(num_free)"
   ]
  },
  {
   "cell_type": "code",
   "execution_count": null,
   "metadata": {
    "collapsed": true
   },
   "outputs": [],
   "source": []
  }
 ],
 "metadata": {
  "kernelspec": {
   "display_name": "Python 2",
   "language": "python",
   "name": "python2"
  },
  "language_info": {
   "codemirror_mode": {
    "name": "ipython",
    "version": 2
   },
   "file_extension": ".py",
   "mimetype": "text/x-python",
   "name": "python",
   "nbconvert_exporter": "python",
   "pygments_lexer": "ipython2",
   "version": "2.7.6"
  }
 },
 "nbformat": 4,
 "nbformat_minor": 0
}
