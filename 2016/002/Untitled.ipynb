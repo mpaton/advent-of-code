{
 "cells": [
  {
   "cell_type": "code",
   "execution_count": 27,
   "metadata": {
    "collapsed": true
   },
   "outputs": [],
   "source": [
    "import pandas as pd\n",
    "import numpy as np"
   ]
  },
  {
   "cell_type": "code",
   "execution_count": 204,
   "metadata": {
    "collapsed": false
   },
   "outputs": [
    {
     "name": "stdout",
     "output_type": "stream",
     "text": [
      "[[1 2 3]\n",
      " [4 5 6]\n",
      " [7 8 9]]\n"
     ]
    }
   ],
   "source": [
    "codes = pd.read_csv('./code.csv',sep='\\n',header=None)\n",
    "keypad = np.matrix([[1,2,3],[4,5,6],[7,8,9]])\n",
    "print keypad"
   ]
  },
  {
   "cell_type": "code",
   "execution_count": 205,
   "metadata": {
    "collapsed": false
   },
   "outputs": [
    {
     "name": "stdout",
     "output_type": "stream",
     "text": [
      "[['-1' '-1' '1' '-1' '-1']\n",
      " ['-1' '2' '3' '4' '-1']\n",
      " ['5' '6' '7' '8' '9']\n",
      " ['-1' 'A' 'B' 'C' '-1']\n",
      " ['-1' '-1' 'D' '-1' '-1']]\n"
     ]
    }
   ],
   "source": [
    "diamond = np.matrix([[-1,-1,1,-1,-1],\n",
    "                     [-1,2,3,4,-1],\n",
    "                     [5,6,7,8,9],\n",
    "                     [-1,'A','B','C',-1],\n",
    "                     [-1,-1,'D',-1,-1]])\n",
    "print diamond"
   ]
  },
  {
   "cell_type": "code",
   "execution_count": 206,
   "metadata": {
    "collapsed": true
   },
   "outputs": [],
   "source": [
    "def instruction2direction(instruction):\n",
    "    if(instruction == 'L'):\n",
    "        return (-1,0)\n",
    "    elif(instruction == 'R'):\n",
    "        return (1,0)\n",
    "    elif(instruction == 'U'):\n",
    "        return (0,-1)\n",
    "    elif(instruction == 'D'):\n",
    "        return (0,1)"
   ]
  },
  {
   "cell_type": "code",
   "execution_count": 207,
   "metadata": {
    "collapsed": false
   },
   "outputs": [],
   "source": [
    "def validate(keypad,pos,instruction):\n",
    "    candidate = tuple(map(sum, zip(pos,instruction)))\n",
    "    if candidate[0] < 0 or candidate[1] < 0:\n",
    "        return False\n",
    "    elif candidate[0] >= keypad.shape[0] or candidate[1] >= keypad.shape[1]:\n",
    "        return False\n",
    "    \n",
    "    candidate_code = keypad.item(candidate[0],candidate[1])\n",
    "    try:\n",
    "        if int(candidate_code) == -1:\n",
    "            return False\n",
    "        else:\n",
    "            return True\n",
    "    except:\n",
    "        return True"
   ]
  },
  {
   "cell_type": "code",
   "execution_count": 209,
   "metadata": {
    "collapsed": false
   },
   "outputs": [
    {
     "name": "stdout",
     "output_type": "stream",
     "text": [
      "starting position: 5\n",
      "Key: D\n",
      "Key: D\n",
      "Key: 4\n",
      "Key: 8\n",
      "Key: 3\n"
     ]
    }
   ],
   "source": [
    "row = 0\n",
    "col = 2\n",
    "\n",
    "print 'starting position: ' + str(diamond.item((col,row)))\n",
    "\n",
    "# iterate through the codes\n",
    "for code in codes[0]:\n",
    "    #iterate through the instructions\n",
    "    for instruction in list(code):\n",
    "        # get the instruction\n",
    "        (drow,dcol) = instruction2direction(instruction)\n",
    "        if validate(diamond,(col,row),(dcol,drow)):\n",
    "            col += dcol\n",
    "            row += drow\n",
    "    print 'Key: ' + str(diamond.item(col,row))"
   ]
  },
  {
   "cell_type": "code",
   "execution_count": null,
   "metadata": {
    "collapsed": true
   },
   "outputs": [],
   "source": []
  }
 ],
 "metadata": {
  "kernelspec": {
   "display_name": "Python 2",
   "language": "python",
   "name": "python2"
  },
  "language_info": {
   "codemirror_mode": {
    "name": "ipython",
    "version": 2
   },
   "file_extension": ".py",
   "mimetype": "text/x-python",
   "name": "python",
   "nbconvert_exporter": "python",
   "pygments_lexer": "ipython2",
   "version": "2.7.6"
  }
 },
 "nbformat": 4,
 "nbformat_minor": 0
}
