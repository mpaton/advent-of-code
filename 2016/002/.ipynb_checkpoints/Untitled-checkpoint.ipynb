{
 "cells": [
  {
   "cell_type": "code",
   "execution_count": 27,
   "metadata": {
    "collapsed": true
   },
   "outputs": [],
   "source": [
    "import pandas as pd\n",
    "import numpy as np"
   ]
  },
  {
   "cell_type": "code",
   "execution_count": 163,
   "metadata": {
    "collapsed": false
   },
   "outputs": [
    {
     "name": "stdout",
     "output_type": "stream",
     "text": [
      "[[1 2 3]\n",
      " [4 5 6]\n",
      " [7 8 9]]\n"
     ]
    }
   ],
   "source": [
    "codes = pd.read_csv('./example.csv',sep='\\n',header=None)\n",
    "keypad = np.matrix([[1,2,3],[4,5,6],[7,8,9]])\n",
    "print keypad"
   ]
  },
  {
   "cell_type": "code",
   "execution_count": 184,
   "metadata": {
    "collapsed": false
   },
   "outputs": [
    {
     "name": "stdout",
     "output_type": "stream",
     "text": [
      "[['-1' '-1' '1' '-1' '-1']\n",
      " ['-1' '2' '3' '4' '-1']\n",
      " ['5' '6' '7' '8' '9']\n",
      " ['-1' 'A' 'B' 'C' '-1']\n",
      " ['-1' '-1' 'D' '-1' '-1']]\n"
     ]
    }
   ],
   "source": [
    "diamond = np.matrix([[-1,-1,1,-1,-1],\n",
    "                     [-1,2,3,4,-1],\n",
    "                     [5,6,7,8,9],\n",
    "                     [-1,'A','B','C',-1],\n",
    "                     [-1,-1,'D',-1,-1]])\n",
    "print diamond"
   ]
  },
  {
   "cell_type": "code",
   "execution_count": 165,
   "metadata": {
    "collapsed": true
   },
   "outputs": [],
   "source": [
    "def instruction2direction(instruction):\n",
    "    if(instruction == 'L'):\n",
    "        return (-1,0)\n",
    "    elif(instruction == 'R'):\n",
    "        return (1,0)\n",
    "    elif(instruction == 'U'):\n",
    "        return (0,-1)\n",
    "    elif(instruction == 'D'):\n",
    "        return (0,1)"
   ]
  },
  {
   "cell_type": "code",
   "execution_count": 197,
   "metadata": {
    "collapsed": false
   },
   "outputs": [],
   "source": [
    "def validate(keypad,pos,instruction):\n",
    "    candidate = tuple(map(sum, zip(pos,instruction)))\n",
    "    print 'candidate: ' + str(keypad.item(candidate[0],candidate[1]))\n",
    "    \n",
    "    if candidate[0] < 0 or candidate[1] < 0:\n",
    "        print 'case1'\n",
    "        return False\n",
    "    elif candidate[0] >= keypad.shape[0] or candidate[1] >= keypad.shape[1]:\n",
    "        print 'case2'\n",
    "        return False\n",
    "    \n",
    "    candidate_code = keypad.item(candidate[0],candidate[1])\n",
    "    if int(candidate_code) == -1:\n",
    "        return False\n",
    "    else:\n",
    "        return True"
   ]
  },
  {
   "cell_type": "code",
   "execution_count": 198,
   "metadata": {
    "collapsed": false
   },
   "outputs": [
    {
     "name": "stdout",
     "output_type": "stream",
     "text": [
      "starting position: 5\n",
      "U\n",
      "candidate: -1\n",
      "case3\n",
      "False\n",
      "candidate: -1\n",
      "case3\n",
      "L\n",
      "candidate: 9\n",
      "case1\n",
      "False\n",
      "candidate: 9\n",
      "case1\n",
      "L\n",
      "candidate: 9\n",
      "case1\n",
      "False\n",
      "candidate: 9\n",
      "case1\n",
      "Key: 5\n",
      "R\n",
      "candidate: 6\n",
      "case46\n",
      "True\n",
      "candidate: 6\n",
      "case46\n",
      "R\n",
      "candidate: 7\n",
      "case47\n",
      "True\n",
      "candidate: 7\n",
      "case47\n",
      "D\n",
      "candidate: B\n"
     ]
    },
    {
     "ename": "ValueError",
     "evalue": "invalid literal for int() with base 10: 'B'",
     "output_type": "error",
     "traceback": [
      "\u001b[1;31m---------------------------------------------------------------------------\u001b[0m",
      "\u001b[1;31mValueError\u001b[0m                                Traceback (most recent call last)",
      "\u001b[1;32m<ipython-input-198-568267ecd4fb>\u001b[0m in \u001b[0;36m<module>\u001b[1;34m()\u001b[0m\n\u001b[0;32m     11\u001b[0m         \u001b[1;31m# get the instruction\u001b[0m\u001b[1;33m\u001b[0m\u001b[1;33m\u001b[0m\u001b[0m\n\u001b[0;32m     12\u001b[0m         \u001b[1;33m(\u001b[0m\u001b[0mdrow\u001b[0m\u001b[1;33m,\u001b[0m\u001b[0mdcol\u001b[0m\u001b[1;33m)\u001b[0m \u001b[1;33m=\u001b[0m \u001b[0minstruction2direction\u001b[0m\u001b[1;33m(\u001b[0m\u001b[0minstruction\u001b[0m\u001b[1;33m)\u001b[0m\u001b[1;33m\u001b[0m\u001b[0m\n\u001b[1;32m---> 13\u001b[1;33m         \u001b[1;32mprint\u001b[0m \u001b[0mvalidate\u001b[0m\u001b[1;33m(\u001b[0m\u001b[0mdiamond\u001b[0m\u001b[1;33m,\u001b[0m\u001b[1;33m(\u001b[0m\u001b[0mcol\u001b[0m\u001b[1;33m,\u001b[0m\u001b[0mrow\u001b[0m\u001b[1;33m)\u001b[0m\u001b[1;33m,\u001b[0m\u001b[1;33m(\u001b[0m\u001b[0mdcol\u001b[0m\u001b[1;33m,\u001b[0m\u001b[0mdrow\u001b[0m\u001b[1;33m)\u001b[0m\u001b[1;33m)\u001b[0m\u001b[1;33m\u001b[0m\u001b[0m\n\u001b[0m\u001b[0;32m     14\u001b[0m         \u001b[1;32mif\u001b[0m \u001b[0mvalidate\u001b[0m\u001b[1;33m(\u001b[0m\u001b[0mdiamond\u001b[0m\u001b[1;33m,\u001b[0m\u001b[1;33m(\u001b[0m\u001b[0mcol\u001b[0m\u001b[1;33m,\u001b[0m\u001b[0mrow\u001b[0m\u001b[1;33m)\u001b[0m\u001b[1;33m,\u001b[0m\u001b[1;33m(\u001b[0m\u001b[0mdcol\u001b[0m\u001b[1;33m,\u001b[0m\u001b[0mdrow\u001b[0m\u001b[1;33m)\u001b[0m\u001b[1;33m)\u001b[0m\u001b[1;33m:\u001b[0m\u001b[1;33m\u001b[0m\u001b[0m\n\u001b[0;32m     15\u001b[0m             \u001b[0mcol\u001b[0m \u001b[1;33m+=\u001b[0m \u001b[0mdcol\u001b[0m\u001b[1;33m\u001b[0m\u001b[0m\n",
      "\u001b[1;32m<ipython-input-197-bea64a88aecc>\u001b[0m in \u001b[0;36mvalidate\u001b[1;34m(keypad, pos, instruction)\u001b[0m\n\u001b[0;32m     11\u001b[0m \u001b[1;33m\u001b[0m\u001b[0m\n\u001b[0;32m     12\u001b[0m     \u001b[0mcandidate_code\u001b[0m \u001b[1;33m=\u001b[0m \u001b[0mkeypad\u001b[0m\u001b[1;33m.\u001b[0m\u001b[0mitem\u001b[0m\u001b[1;33m(\u001b[0m\u001b[0mcandidate\u001b[0m\u001b[1;33m[\u001b[0m\u001b[1;36m0\u001b[0m\u001b[1;33m]\u001b[0m\u001b[1;33m,\u001b[0m\u001b[0mcandidate\u001b[0m\u001b[1;33m[\u001b[0m\u001b[1;36m1\u001b[0m\u001b[1;33m]\u001b[0m\u001b[1;33m)\u001b[0m\u001b[1;33m\u001b[0m\u001b[0m\n\u001b[1;32m---> 13\u001b[1;33m     \u001b[1;32mif\u001b[0m \u001b[0mint\u001b[0m\u001b[1;33m(\u001b[0m\u001b[0mcandidate_code\u001b[0m\u001b[1;33m)\u001b[0m \u001b[1;33m==\u001b[0m \u001b[1;33m-\u001b[0m\u001b[1;36m1\u001b[0m\u001b[1;33m:\u001b[0m\u001b[1;33m\u001b[0m\u001b[0m\n\u001b[0m\u001b[0;32m     14\u001b[0m         \u001b[1;32mprint\u001b[0m \u001b[1;34m'case3'\u001b[0m\u001b[1;33m\u001b[0m\u001b[0m\n\u001b[0;32m     15\u001b[0m         \u001b[1;32mreturn\u001b[0m \u001b[0mFalse\u001b[0m\u001b[1;33m\u001b[0m\u001b[0m\n",
      "\u001b[1;31mValueError\u001b[0m: invalid literal for int() with base 10: 'B'"
     ]
    }
   ],
   "source": [
    "row = 0\n",
    "col = 2\n",
    "\n",
    "print 'starting position: ' + str(diamond.item((col,row)))\n",
    "\n",
    "# iterate through the codes\n",
    "for code in codes[0]:\n",
    "    #iterate through the instructions\n",
    "    for instruction in list(code):\n",
    "        print instruction\n",
    "        # get the instruction\n",
    "        (drow,dcol) = instruction2direction(instruction)\n",
    "        print validate(diamond,(col,row),(dcol,drow))\n",
    "        if validate(diamond,(col,row),(dcol,drow)):\n",
    "            col += dcol\n",
    "            row += drow\n",
    "    print 'Key: ' + str(diamond.item(col,row))"
   ]
  },
  {
   "cell_type": "code",
   "execution_count": null,
   "metadata": {
    "collapsed": true
   },
   "outputs": [],
   "source": []
  }
 ],
 "metadata": {
  "kernelspec": {
   "display_name": "Python 2",
   "language": "python",
   "name": "python2"
  },
  "language_info": {
   "codemirror_mode": {
    "name": "ipython",
    "version": 2
   },
   "file_extension": ".py",
   "mimetype": "text/x-python",
   "name": "python",
   "nbconvert_exporter": "python",
   "pygments_lexer": "ipython2",
   "version": "2.7.6"
  }
 },
 "nbformat": 4,
 "nbformat_minor": 0
}
