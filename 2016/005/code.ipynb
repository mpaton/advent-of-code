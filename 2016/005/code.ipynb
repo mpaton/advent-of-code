{
 "cells": [
  {
   "cell_type": "code",
   "execution_count": 2,
   "metadata": {
    "collapsed": false
   },
   "outputs": [
    {
     "name": "stderr",
     "output_type": "stream",
     "text": [
      "/usr/local/lib/python2.7/dist-packages/ipykernel/__main__.py:3: DeprecationWarning: the md5 module is deprecated; use hashlib instead\n",
      "  app.launch_new_instance()\n"
     ]
    }
   ],
   "source": [
    "import pandas as pd\n",
    "import numpy as np\n",
    "import md5"
   ]
  },
  {
   "cell_type": "code",
   "execution_count": 3,
   "metadata": {
    "collapsed": false
   },
   "outputs": [],
   "source": [
    "#data = pd.read_csv('./rooms.txt',header=None,delim_whitespace=True)"
   ]
  },
  {
   "cell_type": "code",
   "execution_count": 36,
   "metadata": {
    "collapsed": false
   },
   "outputs": [
    {
     "name": "stdout",
     "output_type": "stream",
     "text": [
      "1\n",
      "1a\n",
      "1a3\n",
      "1a30\n",
      "1a309\n",
      "1a3099\n",
      "1a3099a\n",
      "1a3099aa\n",
      "1a3099aa\n"
     ]
    }
   ],
   "source": [
    "password = \"\"\n",
    "index = 0\n",
    "doorid = \"uqwqemis\"\n",
    "while len(password) < 8:\n",
    "    m = md5.new(doorid + str(index))\n",
    "    doorhash = m.hexdigest()\n",
    "    if doorhash[0:5] == \"00000\":\n",
    "        password += doorhash[5]\n",
    "        print password\n",
    "    index += 1\n",
    "print password"
   ]
  },
  {
   "cell_type": "code",
   "execution_count": 57,
   "metadata": {
    "collapsed": false
   },
   "outputs": [
    {
     "name": "stdout",
     "output_type": "stream",
     "text": [
      "\n",
      "1234567\n",
      "a1234567\n"
     ]
    }
   ],
   "source": [
    "password = \"01234567\"\n",
    "passchar = \"a\"\n",
    "position = 0\n",
    "print password [:position]\n",
    "print password [position+1:]\n",
    "print password[:position] + passchar + password[position+1:]"
   ]
  },
  {
   "cell_type": "code",
   "execution_count": 66,
   "metadata": {
    "collapsed": false
   },
   "outputs": [
    {
     "name": "stdout",
     "output_type": "stream",
     "text": [
      "1 9\n",
      "x9xxxxxx\n",
      "3 1\n",
      "x9x1xxxx\n",
      "0 6\n",
      "69x1xxxx\n",
      "2 4\n",
      "6941xxxx\n",
      "5 0\n",
      "6941x0xx\n",
      "4 9\n",
      "694190xx\n",
      "6 c\n",
      "694190cx\n",
      "7 d\n",
      "694190cd\n",
      "694190cd\n"
     ]
    }
   ],
   "source": [
    "password = \"xxxxxxxx\"\n",
    "valid_chars = 0\n",
    "index = 0\n",
    "#doorid = \"uqwqemis\"\n",
    "doorid = \"uqwqemis\"\n",
    "while valid_chars < 8:\n",
    "    m = md5.new(doorid + str(index))\n",
    "    doorhash = m.hexdigest()\n",
    "    if doorhash[0:5] == \"00000\":\n",
    "        position = int(\"0x\" + doorhash[5],16)\n",
    "        passchar = doorhash[6]\n",
    "        ## check for valid index\n",
    "        if position < 8 and password[position] == \"x\":\n",
    "            print position,passchar\n",
    "            password = password[:position] + passchar + password[position+1:]\n",
    "            valid_chars += 1\n",
    "            print password\n",
    "    index += 1\n",
    "print password"
   ]
  },
  {
   "cell_type": "code",
   "execution_count": null,
   "metadata": {
    "collapsed": true
   },
   "outputs": [],
   "source": []
  }
 ],
 "metadata": {
  "kernelspec": {
   "display_name": "Python 2",
   "language": "python",
   "name": "python2"
  },
  "language_info": {
   "codemirror_mode": {
    "name": "ipython",
    "version": 2
   },
   "file_extension": ".py",
   "mimetype": "text/x-python",
   "name": "python",
   "nbconvert_exporter": "python",
   "pygments_lexer": "ipython2",
   "version": "2.7.6"
  }
 },
 "nbformat": 4,
 "nbformat_minor": 0
}
