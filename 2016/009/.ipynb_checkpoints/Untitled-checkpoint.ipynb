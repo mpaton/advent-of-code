{
 "cells": [
  {
   "cell_type": "code",
   "execution_count": 11,
   "metadata": {
    "collapsed": true
   },
   "outputs": [],
   "source": [
    "import pandas as pd\n",
    "import numpy as np\n",
    "import math\n",
    "import collections\n",
    "import re"
   ]
  },
  {
   "cell_type": "code",
   "execution_count": 37,
   "metadata": {
    "collapsed": false
   },
   "outputs": [],
   "source": [
    "def decompress(line):\n",
    "    decompressed_output = \"\"\n",
    "    split_line = line.replace(')','(')\n",
    "    split_line = split_line.split('(')\n",
    "    for idx in range(len(split_line)):\n",
    "        \n",
    "        ## check if this is a marker\n",
    "        if 'x' in split_line[idx]:\n",
    "            marker = split_line[idx]\n",
    "            count = int(marker.split('x')[0])\n",
    "            times = int(marker.split('x')[1])\n",
    "            \n",
    "            ## assemble the subsequent characters\n",
    "            ass_idx = idx+1\n",
    "            assembeled = \"\"\n",
    "            current_count = count\n",
    "            while len(assembeled) < count:\n",
    "                if 'x' in split_line[ass_idx]:\n",
    "                    split_line[ass_idx] = '(' + split_line[ass_idx] + ')'\n",
    "                grab_amount = min(len(split_line[ass_idx]),current_count)\n",
    "                assembeled += split_line[ass_idx][0:grab_amount]\n",
    "                split_line[ass_idx] = split_line[ass_idx][grab_amount:]\n",
    "                ass_idx += 1\n",
    "                current_count -= grab_amount\n",
    "                \n",
    "            for repeat in range(times):\n",
    "                decompressed_output += assembeled\n",
    "        else:\n",
    "            decompressed_output += split_line[idx]\n",
    "    return decompressed_output"
   ]
  },
  {
   "cell_type": "code",
   "execution_count": 86,
   "metadata": {
    "collapsed": false
   },
   "outputs": [],
   "source": [
    "def decompress2(line):\n",
    "    decompressed = \"\"\n",
    "    idx = 0\n",
    "    while idx < len(line):\n",
    "        ## start of marker\n",
    "        if line[idx] == \"(\":\n",
    "            pre_marker_idx = idx\n",
    "            idx+=1 \n",
    "            marker = \"\"\n",
    "            while line[idx] != \")\":\n",
    "                marker += line[idx]\n",
    "                idx+=1 \n",
    "            idx+=1\n",
    "            count = int(marker.split('x')[0])\n",
    "            times = int(marker.split('x')[1])\n",
    "            expanded = \"\"\n",
    "            for expanded_idx in range(times):\n",
    "                expanded += line[idx:idx+count]\n",
    "            post_marker_idx = idx + count\n",
    "            decompressed = decompressed + expanded\n",
    "            idx += count\n",
    "        else:\n",
    "            decompressed += line[idx]\n",
    "            idx+=1\n",
    "    return decompressed"
   ]
  },
  {
   "cell_type": "code",
   "execution_count": 85,
   "metadata": {
    "collapsed": false
   },
   "outputs": [
    {
     "name": "stdout",
     "output_type": "stream",
     "text": [
      "decompressed: 102239\n"
     ]
    }
   ],
   "source": [
    "def decompress3(line):\n",
    "    decompressed = \"\"\n",
    "    idx = 0\n",
    "    while idx < len(line):\n",
    "        ## start of marker\n",
    "        if line[idx] == \"(\":\n",
    "            pre_marker_idx = idx\n",
    "            idx+=1 \n",
    "            marker = \"\"\n",
    "            while line[idx] != \")\":\n",
    "                marker += line[idx]\n",
    "                idx+=1 \n",
    "            idx+=1\n",
    "            count = int(marker.split('x')[0])\n",
    "            times = int(marker.split('x')[1])\n",
    "            expanded = \"\"\n",
    "            for expanded_idx in range(times):\n",
    "                expanded += line[idx:idx+count]\n",
    "            post_marker_idx = idx + count\n",
    "            decompressed = decompressed + expanded\n",
    "            idx += count\n",
    "        else:\n",
    "            decompressed += line[idx]\n",
    "            idx+=1\n",
    "    return decompressed\n",
    "\n",
    "\n",
    "data = pd.read_csv('./input.txt',header=None,delim_whitespace=False)\n",
    "\n",
    "decompressed_output = \"\"\n",
    "\n",
    "for line in data[0]:\n",
    "    decompressed_output += decompress3(line)\n",
    "print \"decompressed: \" + str(len(decompressed_output))\n",
    "#stop = False\n",
    "#while '(' in decompressed_output:\n",
    "#    print decompressed_output[0:250]\n",
    "#    print \"markers: \" + str(decompressed_output.count('x'))\n",
    "#    decompressed_output = decompress(decompressed_output)\n",
    "#    print len(decompressed_output)\n",
    "#    \n",
    "#print \"super decompressed: \" + str(len(decompressed_output))\n",
    "        "
   ]
  },
  {
   "cell_type": "code",
   "execution_count": null,
   "metadata": {
    "collapsed": true
   },
   "outputs": [],
   "source": [
    "# data = pd.read_csv('./input.txt',header=None,delim_whitespace=False)\n",
    "rows = 6\n",
    "cols = 50\n",
    "screen = np.zeros((rows,cols))\n",
    "#print screen\n",
    "\n",
    "for line in data[0]:\n",
    "    instructions = line.split()\n",
    "    # turn on from top left\n",
    "    if(instructions[0] == \"rect\"):\n",
    "        cols = int(instructions[1].split(\"x\")[0])\n",
    "        rows = int(instructions[1].split(\"x\")[1])\n",
    "        screen[0:rows,0:cols] = np.ones((rows,cols))\n",
    "    elif(instructions[0] == \"rotate\"):\n",
    "        dimension = instructions[1]\n",
    "        idx = int(instructions[2].split(\"=\")[1])\n",
    "        amount = int(instructions[4])\n",
    "        if dimension == \"column\":\n",
    "            ## extract the column\n",
    "            column = screen[:,idx].copy()\n",
    "            for col_idx in range(len(column)):\n",
    "                screen_idx = (col_idx+amount) % (screen.shape[0])\n",
    "                screen[screen_idx,idx] = column[col_idx]\n",
    "        elif dimension == \"row\":\n",
    "            ## extract the row\n",
    "            row = screen[idx,:].copy()\n",
    "            for row_idx in range(len(row)):\n",
    "                screen_idx = (row_idx+amount) % (screen.shape[1])\n",
    "                screen[idx,screen_idx] = row[row_idx]\n",
    "\n",
    "print np.count_nonzero(screen)\n",
    "\n",
    "\n",
    "print screen.shape\n",
    "screen_range = screen.shape[1]/5\n",
    "for i in range(screen_range):\n",
    "    print type\n",
    "    letter = screen[:,i*5:i*5+5]\n",
    "    for row in range(letter.shape[0]):\n",
    "        message = \"\"\n",
    "        for col in range(letter.shape[1]):\n",
    "            if(letter[row,col] == 0):\n",
    "                message += \".\"\n",
    "            else:\n",
    "                message += \"#\"\n",
    "        print message"
   ]
  }
 ],
 "metadata": {
  "kernelspec": {
   "display_name": "Python 2",
   "language": "python",
   "name": "python2"
  },
  "language_info": {
   "codemirror_mode": {
    "name": "ipython",
    "version": 2
   },
   "file_extension": ".py",
   "mimetype": "text/x-python",
   "name": "python",
   "nbconvert_exporter": "python",
   "pygments_lexer": "ipython2",
   "version": "2.7.6"
  }
 },
 "nbformat": 4,
 "nbformat_minor": 0
}
