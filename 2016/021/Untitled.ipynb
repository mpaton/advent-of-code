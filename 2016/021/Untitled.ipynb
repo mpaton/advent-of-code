{
 "cells": [
  {
   "cell_type": "code",
   "execution_count": 1,
   "metadata": {
    "collapsed": false
   },
   "outputs": [],
   "source": [
    "import pandas as pd\n",
    "import numpy as np\n",
    "import math\n",
    "import collections\n",
    "import re\n",
    "import sys\n",
    "import itertools"
   ]
  },
  {
   "cell_type": "code",
   "execution_count": null,
   "metadata": {
    "collapsed": true
   },
   "outputs": [],
   "source": []
  },
  {
   "cell_type": "code",
   "execution_count": 54,
   "metadata": {
    "collapsed": false
   },
   "outputs": [],
   "source": [
    "## swap position x with position y - letters at x and y should be swapped\n",
    "## \n",
    "def swapchar(positions,strin):\n",
    "    posx = sorted(positions)[0]\n",
    "    posy = sorted(positions)[1]\n",
    "    strout = strin[:posx] + strin[posy] + strin[posx+1:posy] + strin[posx] + strin[posy+1:]\n",
    "    return strout\n",
    "    \n",
    "## swap letter x with letter y\n",
    "def swapletter(letterx,lettery,strin):\n",
    "    posx = re.search(letterx,strin).start()\n",
    "    posy = re.search(lettery,strin).start()\n",
    "    return swapchar((posx,posy),strin)\n",
    "    \n",
    "def rotatedir(direction,steps,strin):\n",
    "    if direction == 'right':\n",
    "        steps *= -1\n",
    "    return strin[steps::] + strin[:steps]\n",
    "    \n",
    "def rotate(direction,anchor,strin):\n",
    "    pos = re.search(anchor,strin).start()\n",
    "    if pos >= 4:\n",
    "        steps = pos + 2\n",
    "    else:\n",
    "        steps = (pos + 1)\n",
    "    steps = steps % len(strin)\n",
    "    return rotatedir(direction,steps,strin)\n",
    "# abcde\n",
    "#\n",
    "# 0 -- 1 -- eabcd -- 1 -- 1\n",
    "# 1 -- 2 -- deabc -- 3 -- 2\n",
    "# 2 -- 3 -- cdeab -- 0 -- \n",
    "#\n",
    "#\n",
    "def rotate2(direction,anchor,strin):\n",
    "    pos = re.search(anchor,strin).start()\n",
    "    #print pos\n",
    "    if pos == 1:\n",
    "        steps = 1\n",
    "    elif pos == 3:\n",
    "        steps = 2\n",
    "    elif pos == 5:\n",
    "        steps = 3\n",
    "    elif pos == 7:\n",
    "        steps = 4\n",
    "    elif pos == 2:\n",
    "        steps = 6\n",
    "    elif pos == 4:\n",
    "        steps = 7\n",
    "    elif pos == 6:\n",
    "        steps = 8\n",
    "    elif pos == 0:\n",
    "        steps = 1\n",
    "    \n",
    "    steps = steps % len(strin) \n",
    "    return rotatedir(direction,steps,strin)\n",
    "\n",
    "def reverse(positions,strin):\n",
    "    posx = sorted(positions)[0]\n",
    "    posy = sorted(positions)[1]\n",
    "    substr = strin[posx:posy+1]\n",
    "    if (posy-posx) >= len(strin)-1:\n",
    "        return strin[::-1]\n",
    "    else:\n",
    "        ### Bug on the last idx\n",
    "        newstr = strin[0:posx]  + substr[::-1]\n",
    "        #### HOOOOOOW\n",
    "        if posy < len(strin)-1:\n",
    "            newstr += strin[-(len(strin)-posy-1):]\n",
    "        return newstr\n",
    "    \n",
    "def move(positions,strin):\n",
    "    posx = (positions)[0]\n",
    "    posy = (positions)[1]\n",
    "    substr = strin[0:posx] + strin[posx+1:]\n",
    "    return substr[0:posy] + strin[posx] + substr[posy:]"
   ]
  },
  {
   "cell_type": "code",
   "execution_count": 69,
   "metadata": {
    "collapsed": false,
    "scrolled": true
   },
   "outputs": [
    {
     "name": "stdout",
     "output_type": "stream",
     "text": [
      "unscrambled: abcdefgh\n",
      "scrambled:   ghfacdbe\n",
      "#############################################################\n",
      "scrambled:   fbgdceah\n",
      "unscrambled: fhgcdaeb\n"
     ]
    }
   ],
   "source": [
    "data = pd.read_csv('./input.txt',header=None,delimiter='\\n')\n",
    "commands = [line[0].split(' ') for line in data.values]\n",
    "\n",
    "strin = 'abcdefgh'\n",
    "print 'unscrambled: ' + strin\n",
    "for command in commands:\n",
    "   # print command\n",
    "    if command[0] == 'rotate' and command[1] == 'based':\n",
    "        strin = rotate('right',command[6],strin)\n",
    "    elif command[0] == 'rotate' and 'step' in command[3]:\n",
    "        strin = rotatedir(command[1],int(command[2]),strin)\n",
    "    elif command[0] == 'swap' and command[1] == 'position':\n",
    "        strin = swapchar((int(command[2]),int(command[5])),strin)\n",
    "    elif command[0] == 'swap' and command[1] == 'letter':\n",
    "        strin = swapletter(command[2],command[5],strin)\n",
    "    elif command[0] == 'reverse':\n",
    "        strin = reverse((int(command[2]),int(command[4])),strin)\n",
    "    elif command[0] == 'move':\n",
    "        strin = move((int(command[2]),int(command[5])),strin)\n",
    "    \n",
    "print 'scrambled:   ' + strin\n",
    "\n",
    "print '#############################################################'\n",
    "strin = 'fbgdceah'\n",
    "print 'scrambled:   ' + strin\n",
    "for command in reversed(commands):\n",
    "   # print command\n",
    "   # print strin\n",
    "    if command[0] == 'rotate' and command[1] == 'based':\n",
    "        strin = rotate2('left',command[6],strin)\n",
    "    elif command[0] == 'rotate' and 'step' in command[3]:\n",
    "        if command[1] == 'left':\n",
    "            direction = 'right'\n",
    "        else:\n",
    "            direction = 'left'\n",
    "            \n",
    "        strin = rotatedir(direction,int(command[2]),strin)\n",
    "    elif command[0] == 'swap' and command[1] == 'position':\n",
    "        strin = swapchar((int(command[5]),int(command[2])),strin)\n",
    "    elif command[0] == 'swap' and command[1] == 'letter':\n",
    "        strin = swapletter(command[5],command[2],strin)\n",
    "    elif command[0] == 'reverse':\n",
    "        strin = reverse((int(command[2]),int(command[4])),strin)\n",
    "    elif command[0] == 'move':\n",
    "        strin = move((int(command[5]),int(command[2])),strin)\n",
    "    #print strin\n",
    "    \n",
    "print 'unscrambled: ' + strin"
   ]
  },
  {
   "cell_type": "code",
   "execution_count": 60,
   "metadata": {
    "collapsed": false
   },
   "outputs": [
    {
     "name": "stdout",
     "output_type": "stream",
     "text": [
      "swap: ebcda\n",
      "swap: edcba\n",
      "reverse: abcde\n",
      "rotate: bcdea\n",
      "move bdeac\n",
      "move abdec\n"
     ]
    },
    {
     "ename": "TypeError",
     "evalue": "rotate() takes exactly 3 arguments (2 given)",
     "output_type": "error",
     "traceback": [
      "\u001b[1;31m---------------------------------------------------------------------------\u001b[0m",
      "\u001b[1;31mTypeError\u001b[0m                                 Traceback (most recent call last)",
      "\u001b[1;32m<ipython-input-60-161e4c9a22f4>\u001b[0m in \u001b[0;36m<module>\u001b[1;34m()\u001b[0m\n\u001b[0;32m     13\u001b[0m \u001b[0mstrin\u001b[0m \u001b[1;33m=\u001b[0m \u001b[0mmove\u001b[0m\u001b[1;33m(\u001b[0m\u001b[1;33m(\u001b[0m\u001b[1;36m3\u001b[0m\u001b[1;33m,\u001b[0m\u001b[1;36m0\u001b[0m\u001b[1;33m)\u001b[0m\u001b[1;33m,\u001b[0m\u001b[0mstrin\u001b[0m\u001b[1;33m)\u001b[0m\u001b[1;33m\u001b[0m\u001b[0m\n\u001b[0;32m     14\u001b[0m \u001b[1;32mprint\u001b[0m \u001b[1;34m'move '\u001b[0m \u001b[1;33m+\u001b[0m \u001b[0mstrin\u001b[0m\u001b[1;33m\u001b[0m\u001b[0m\n\u001b[1;32m---> 15\u001b[1;33m \u001b[0mstrin\u001b[0m \u001b[1;33m=\u001b[0m \u001b[0mrotate\u001b[0m\u001b[1;33m(\u001b[0m\u001b[1;34m'b'\u001b[0m\u001b[1;33m,\u001b[0m\u001b[0mstrin\u001b[0m\u001b[1;33m)\u001b[0m\u001b[1;33m\u001b[0m\u001b[0m\n\u001b[0m\u001b[0;32m     16\u001b[0m \u001b[1;32mprint\u001b[0m \u001b[1;34m'rotate '\u001b[0m \u001b[1;33m+\u001b[0m \u001b[0mstrin\u001b[0m\u001b[1;33m\u001b[0m\u001b[0m\n\u001b[0;32m     17\u001b[0m \u001b[0mstrin\u001b[0m \u001b[1;33m=\u001b[0m \u001b[0mrotate\u001b[0m\u001b[1;33m(\u001b[0m\u001b[1;34m'd'\u001b[0m\u001b[1;33m,\u001b[0m\u001b[0mstrin\u001b[0m\u001b[1;33m)\u001b[0m\u001b[1;33m\u001b[0m\u001b[0m\n",
      "\u001b[1;31mTypeError\u001b[0m: rotate() takes exactly 3 arguments (2 given)"
     ]
    }
   ],
   "source": [
    "strin = 'abcde'\n",
    "\n",
    "strin = swapchar((4,0),strin)\n",
    "print 'swap: ' + strin\n",
    "strin =  swapletter('d','b',strin)\n",
    "print 'swap: ' + strin\n",
    "strin = reverse((0,4),strin)\n",
    "print 'reverse: ' + strin\n",
    "strin = rotatedir('left',1,strin)\n",
    "print 'rotate: ' + strin\n",
    "strin = move((1,4),strin)\n",
    "print 'move ' + strin\n",
    "strin = move((3,0),strin)\n",
    "print 'move ' + strin\n",
    "strin = rotate('b',strin)\n",
    "print 'rotate ' + strin\n",
    "strin = rotate('d',strin)\n",
    "print 'rotate ' + strin"
   ]
  },
  {
   "cell_type": "code",
   "execution_count": 171,
   "metadata": {
    "collapsed": false
   },
   "outputs": [
    {
     "name": "stdout",
     "output_type": "stream",
     "text": [
      "minimum: 23923783\n",
      "# of free: 125\n"
     ]
    }
   ],
   "source": [
    "data = pd.read_csv('./input.txt',header=None,delimiter='\\n')\n",
    "commands = [line[0].split(' ') for line in data.values]\n",
    "\n",
    "blocked= []\n",
    "for command in commands:\n",
    "    bsplit = command[0].split('-')\n",
    "    blocked.append((int(bsplit[0]),int(bsplit[1])))\n",
    "    \n",
    "blocked = sorted(blocked, key=lambda x: x[0])\n",
    "\n",
    "lower = blocked[0][0]\n",
    "upper = blocked[0][1]\n",
    "\n",
    "num_free = 0\n",
    "min_value = 0\n",
    "max_int =0xFFFFFFFF\n",
    "\n",
    "for bounds in blocked:\n",
    "    # m------m\n",
    "    #              m-------m\n",
    "    ## non overlapping\n",
    "    if bounds[0] > (upper+1):\n",
    "        if min_value == 0:\n",
    "            min_value = upper+1\n",
    "        #add values between bounds[0] and upper\n",
    "        num_free += bounds[0] - upper -1\n",
    "        lower = bounds[0]\n",
    "        upper = bounds[1]\n",
    "    # m-------m\n",
    "    #     m----------m\n",
    "    elif bounds[0] <= upper and bounds[1] >= upper:\n",
    "        upper = bounds[1]\n",
    "    # m-------m\n",
    "    #         m-------m\n",
    "    elif bounds[0] == upper or bounds[0] == upper+1:\n",
    "        upper = bounds[1]\n",
    "        \n",
    "if upper < max_int-1:\n",
    "    num_free += max_int-upper-1\n",
    "print \"minimum: \" + str(min_value)\n",
    "print \"# of free: \" + str(num_free)"
   ]
  },
  {
   "cell_type": "code",
   "execution_count": null,
   "metadata": {
    "collapsed": true
   },
   "outputs": [],
   "source": []
  }
 ],
 "metadata": {
  "kernelspec": {
   "display_name": "Python 2",
   "language": "python",
   "name": "python2"
  },
  "language_info": {
   "codemirror_mode": {
    "name": "ipython",
    "version": 2
   },
   "file_extension": ".py",
   "mimetype": "text/x-python",
   "name": "python",
   "nbconvert_exporter": "python",
   "pygments_lexer": "ipython2",
   "version": "2.7.6"
  }
 },
 "nbformat": 4,
 "nbformat_minor": 0
}
