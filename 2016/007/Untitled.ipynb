{
 "cells": [
  {
   "cell_type": "code",
   "execution_count": 285,
   "metadata": {
    "collapsed": true
   },
   "outputs": [],
   "source": [
    "import pandas as pd\n",
    "import numpy as np\n",
    "import math\n",
    "import collections"
   ]
  },
  {
   "cell_type": "code",
   "execution_count": 373,
   "metadata": {
    "collapsed": false
   },
   "outputs": [],
   "source": [
    "data = pd.read_csv('./example.txt',header=None,delim_whitespace=True)"
   ]
  },
  {
   "cell_type": "code",
   "execution_count": 374,
   "metadata": {
    "collapsed": false
   },
   "outputs": [],
   "source": [
    "def valid(sequence):\n",
    "    if len(sequence) < 4:\n",
    "        return False\n",
    "    for idx in range(len(sequence)-3):\n",
    "        subseq = sequence[idx:idx+4]\n",
    "        if subseq[0] == subseq[3] and subseq[1] == subseq[2] and subseq[0] != subseq[1]:\n",
    "            return True\n",
    "    return False        "
   ]
  },
  {
   "cell_type": "code",
   "execution_count": 375,
   "metadata": {
    "collapsed": true
   },
   "outputs": [],
   "source": [
    "def validateSSL(sequence,ssl_map):\n",
    "    for idx in range(len(sequence)-2):\n",
    "        subseq = sequence[idx:idx+3]\n",
    "        ## check the to see if it might be valid\n",
    "        if subseq[0] == subseq[2] and subseq[0] != subseq[1]:\n",
    "            corresponding_key = subseq[1] + subseq[0] + subseq[1]\n",
    "            ssl_map[subseq] = corresponding_key   "
   ]
  },
  {
   "cell_type": "code",
   "execution_count": 376,
   "metadata": {
    "collapsed": false
   },
   "outputs": [
    {
     "name": "stdout",
     "output_type": "stream",
     "text": [
      "Supports TLS: 0\n"
     ]
    }
   ],
   "source": [
    "support_TLS = 0\n",
    "\n",
    "for line in data[0]:\n",
    "    continue_parse = True\n",
    "    state = \"outside\"\n",
    "    inside_count = 0\n",
    "    outside_count = 0\n",
    "    if line[0] == '[':\n",
    "        state = \"inside\"\n",
    "        line = ''.join(line[1:])\n",
    "        \n",
    "    while continue_parse == True:\n",
    "        if state == \"outside\":\n",
    "            line = line.split('[',1)\n",
    "            if valid(line[0]):\n",
    "                outside_count += 1\n",
    "            line = ''.join(line[1:])\n",
    "            if ']' in line:\n",
    "                state = \"inside\"\n",
    "            else:\n",
    "                line = line.split('[')\n",
    "        elif state == \"inside\":\n",
    "            line = line.split(']',1)\n",
    "            if valid(line[0]):\n",
    "                inside_count += 1\n",
    "            line = ''.join(line[1:])\n",
    "            state = \"outside\"\n",
    "        continue_parse = '[' in line or ']' in line\n",
    "\n",
    "    if valid(line):\n",
    "        outside_count += 1\n",
    "        \n",
    "    if inside_count == 0 and outside_count > 0:\n",
    "        support_TLS += 1\n",
    "\n",
    "print 'Supports TLS: ' + str(support_TLS)\n"
   ]
  },
  {
   "cell_type": "code",
   "execution_count": 380,
   "metadata": {
    "collapsed": false
   },
   "outputs": [
    {
     "name": "stdout",
     "output_type": "stream",
     "text": [
      "aba[bab]xyz\n",
      "['aba', 'bab', 'xyz']\n",
      "xyx[xyx]xyx\n",
      "['xyx', 'xyx', 'xyx']\n",
      "aaa[kek]eke\n",
      "['aaa', 'kek', 'eke']\n",
      "zazbz[bzb]cdb\n",
      "['zazbz', 'bzb', 'cdb']\n"
     ]
    }
   ],
   "source": [
    "for line in data[0]:\n",
    "    print line\n",
    "    print line.replace(\"[\", \"]\").split(\"]\")"
   ]
  },
  {
   "cell_type": "code",
   "execution_count": 371,
   "metadata": {
    "collapsed": false
   },
   "outputs": [
    {
     "name": "stdout",
     "output_type": "stream",
     "text": [
      "Supports SSL: 260\n"
     ]
    }
   ],
   "source": [
    "supports_SSL = 0\n",
    "for line in data[0]:\n",
    "    ssl_in_map = {}\n",
    "    ssl_out_map = {}\n",
    "    continue_parse = True\n",
    "    state = \"outside\"\n",
    "    inside_count = 0\n",
    "    outside_count = 0\n",
    "    if line[0] == '[':\n",
    "        state = \"inside\"\n",
    "        line = ''.join(line[1:])\n",
    "        \n",
    "    while continue_parse == True:\n",
    "        if state == \"outside\":\n",
    "            line = line.split('[',1)\n",
    "            if validateSSL(line[0],ssl_out_map):\n",
    "                outside_count += 1\n",
    "            line = ''.join(line[1:])\n",
    "            if ']' in line:\n",
    "                state = \"inside\"\n",
    "            else:\n",
    "                line = line.split('[')\n",
    "        elif state == \"inside\":\n",
    "            line = line.split(']',1)\n",
    "            if validateSSL(line[0],ssl_in_map):\n",
    "                inside_count += 1\n",
    "            line = ''.join(line[1:])\n",
    "            state = \"outside\"\n",
    "        continue_parse = '[' in line or ']' in line\n",
    "    if validateSSL(line,ssl_out_map):\n",
    "        outside_count += 1\n",
    "        \n",
    "    for key,entry in ssl_in_map.iteritems():\n",
    "        if entry in ssl_out_map:\n",
    "            supports_SSL += 1\n",
    "            break\n",
    "print 'Supports SSL: ' + str(supports_SSL)\n"
   ]
  },
  {
   "cell_type": "code",
   "execution_count": null,
   "metadata": {
    "collapsed": true
   },
   "outputs": [],
   "source": []
  }
 ],
 "metadata": {
  "kernelspec": {
   "display_name": "Python 2",
   "language": "python",
   "name": "python2"
  },
  "language_info": {
   "codemirror_mode": {
    "name": "ipython",
    "version": 2
   },
   "file_extension": ".py",
   "mimetype": "text/x-python",
   "name": "python",
   "nbconvert_exporter": "python",
   "pygments_lexer": "ipython2",
   "version": "2.7.6"
  }
 },
 "nbformat": 4,
 "nbformat_minor": 0
}
