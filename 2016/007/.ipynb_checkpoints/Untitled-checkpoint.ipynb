{
 "cells": [
  {
   "cell_type": "code",
   "execution_count": 285,
   "metadata": {
    "collapsed": true
   },
   "outputs": [],
   "source": [
    "import pandas as pd\n",
    "import numpy as np\n",
    "import math\n",
    "import collections"
   ]
  },
  {
   "cell_type": "code",
   "execution_count": 300,
   "metadata": {
    "collapsed": false
   },
   "outputs": [],
   "source": [
    "data = pd.read_csv('./example.txt',header=None,delim_whitespace=True)"
   ]
  },
  {
   "cell_type": "code",
   "execution_count": 301,
   "metadata": {
    "collapsed": false
   },
   "outputs": [],
   "source": [
    "def valid(sequence):\n",
    "    if len(sequence) < 4:\n",
    "        return False\n",
    "    for idx in range(len(sequence)-3):\n",
    "        subseq = sequence[idx:idx+4]\n",
    "        if subseq[0] == subseq[3] and subseq[1] == subseq[2] and subseq[0] != subseq[1]:\n",
    "            return True\n",
    "    return False        "
   ]
  },
  {
   "cell_type": "code",
   "execution_count": 310,
   "metadata": {
    "collapsed": true
   },
   "outputs": [],
   "source": [
    "def validateSSL(sequence,ssl_map):\n",
    "    if len(sequence) < 3:\n",
    "        return False\n",
    "    for idx in range(len(sequence)-2):\n",
    "        subseq = sequence[idx:idx+3]\n",
    "        print subseq\n",
    "        ## check the to see if it might be valid\n",
    "        if subseq[0] == subseq[2] and subseq[0] != subseq[1]:\n",
    "            corresponding_key = subseq[1] + subseq[0] + subseq[1]\n",
    "            ssl_map[subseq] = corresponding_key\n",
    "            return True\n",
    "    return False        "
   ]
  },
  {
   "cell_type": "code",
   "execution_count": 311,
   "metadata": {
    "collapsed": false
   },
   "outputs": [
    {
     "name": "stdout",
     "output_type": "stream",
     "text": [
      "Supports TLS: 0\n"
     ]
    }
   ],
   "source": [
    "support_TLS = 0\n",
    "\n",
    "for line in data[0]:\n",
    "    continue_parse = True\n",
    "    state = \"outside\"\n",
    "    inside_count = 0\n",
    "    outside_count = 0\n",
    "    if line[0] == '[':\n",
    "        state = \"inside\"\n",
    "        line = ''.join(line[1:])\n",
    "        \n",
    "    while continue_parse == True:\n",
    "        if state == \"outside\":\n",
    "            line = line.split('[',1)\n",
    "            if valid(line[0]):\n",
    "                outside_count += 1\n",
    "            line = ''.join(line[1:])\n",
    "            if ']' in line:\n",
    "                state = \"inside\"\n",
    "            else:\n",
    "                line = line.split('[')\n",
    "        elif state == \"inside\":\n",
    "            line = line.split(']',1)\n",
    "            if valid(line[0]):\n",
    "                inside_count += 1\n",
    "            line = ''.join(line[1:])\n",
    "            state = \"outside\"\n",
    "        continue_parse = '[' in line or ']' in line\n",
    "\n",
    "    if valid(line):\n",
    "        outside_count += 1\n",
    "        \n",
    "    if inside_count == 0 and outside_count > 0:\n",
    "        support_TLS += 1\n",
    "\n",
    "print 'Supports TLS: ' + str(support_TLS)\n"
   ]
  },
  {
   "cell_type": "code",
   "execution_count": 312,
   "metadata": {
    "collapsed": false
   },
   "outputs": [
    {
     "ename": "UnboundLocalError",
     "evalue": "local variable 'subseq' referenced before assignment",
     "output_type": "error",
     "traceback": [
      "\u001b[1;31m---------------------------------------------------------------------------\u001b[0m",
      "\u001b[1;31mUnboundLocalError\u001b[0m                         Traceback (most recent call last)",
      "\u001b[1;32m<ipython-input-312-495c389eba63>\u001b[0m in \u001b[0;36m<module>\u001b[1;34m()\u001b[0m\n\u001b[0;32m     15\u001b[0m         \u001b[1;32mif\u001b[0m \u001b[0mstate\u001b[0m \u001b[1;33m==\u001b[0m \u001b[1;34m\"outside\"\u001b[0m\u001b[1;33m:\u001b[0m\u001b[1;33m\u001b[0m\u001b[0m\n\u001b[0;32m     16\u001b[0m             \u001b[0mline\u001b[0m \u001b[1;33m=\u001b[0m \u001b[0mline\u001b[0m\u001b[1;33m.\u001b[0m\u001b[0msplit\u001b[0m\u001b[1;33m(\u001b[0m\u001b[1;34m'['\u001b[0m\u001b[1;33m,\u001b[0m\u001b[1;36m1\u001b[0m\u001b[1;33m)\u001b[0m\u001b[1;33m\u001b[0m\u001b[0m\n\u001b[1;32m---> 17\u001b[1;33m             \u001b[1;32mif\u001b[0m \u001b[0mvalidateSSL\u001b[0m\u001b[1;33m(\u001b[0m\u001b[0mline\u001b[0m\u001b[1;33m[\u001b[0m\u001b[1;36m0\u001b[0m\u001b[1;33m]\u001b[0m\u001b[1;33m,\u001b[0m\u001b[0mssl_out_map\u001b[0m\u001b[1;33m)\u001b[0m\u001b[1;33m:\u001b[0m\u001b[1;33m\u001b[0m\u001b[0m\n\u001b[0m\u001b[0;32m     18\u001b[0m                 \u001b[0moutside_count\u001b[0m \u001b[1;33m+=\u001b[0m \u001b[1;36m1\u001b[0m\u001b[1;33m\u001b[0m\u001b[0m\n\u001b[0;32m     19\u001b[0m             \u001b[0mline\u001b[0m \u001b[1;33m=\u001b[0m \u001b[1;34m''\u001b[0m\u001b[1;33m.\u001b[0m\u001b[0mjoin\u001b[0m\u001b[1;33m(\u001b[0m\u001b[0mline\u001b[0m\u001b[1;33m[\u001b[0m\u001b[1;36m1\u001b[0m\u001b[1;33m:\u001b[0m\u001b[1;33m]\u001b[0m\u001b[1;33m)\u001b[0m\u001b[1;33m\u001b[0m\u001b[0m\n",
      "\u001b[1;32m<ipython-input-310-95147ba41743>\u001b[0m in \u001b[0;36mvalidateSSL\u001b[1;34m(sequence, ssl_map)\u001b[0m\n\u001b[0;32m      3\u001b[0m         \u001b[1;32mreturn\u001b[0m \u001b[0mFalse\u001b[0m\u001b[1;33m\u001b[0m\u001b[0m\n\u001b[0;32m      4\u001b[0m     \u001b[1;32mfor\u001b[0m \u001b[0midx\u001b[0m \u001b[1;32min\u001b[0m \u001b[0mrange\u001b[0m\u001b[1;33m(\u001b[0m\u001b[0mlen\u001b[0m\u001b[1;33m(\u001b[0m\u001b[0msequence\u001b[0m\u001b[1;33m)\u001b[0m\u001b[1;33m-\u001b[0m\u001b[1;36m2\u001b[0m\u001b[1;33m)\u001b[0m\u001b[1;33m:\u001b[0m\u001b[1;33m\u001b[0m\u001b[0m\n\u001b[1;32m----> 5\u001b[1;33m         \u001b[1;32mprint\u001b[0m \u001b[0msubseq\u001b[0m\u001b[1;33m\u001b[0m\u001b[0m\n\u001b[0m\u001b[0;32m      6\u001b[0m         \u001b[0msubseq\u001b[0m \u001b[1;33m=\u001b[0m \u001b[0msequence\u001b[0m\u001b[1;33m[\u001b[0m\u001b[0midx\u001b[0m\u001b[1;33m:\u001b[0m\u001b[0midx\u001b[0m\u001b[1;33m+\u001b[0m\u001b[1;36m3\u001b[0m\u001b[1;33m]\u001b[0m\u001b[1;33m\u001b[0m\u001b[0m\n\u001b[0;32m      7\u001b[0m         \u001b[1;31m## check the to see if it might be valid\u001b[0m\u001b[1;33m\u001b[0m\u001b[1;33m\u001b[0m\u001b[0m\n",
      "\u001b[1;31mUnboundLocalError\u001b[0m: local variable 'subseq' referenced before assignment"
     ]
    }
   ],
   "source": [
    "support_TLS = 0\n",
    "supports_SSL = 0\n",
    "for line in data[0]:\n",
    "    ssl_in_map = {}\n",
    "    ssl_out_map = {}\n",
    "    continue_parse = True\n",
    "    state = \"outside\"\n",
    "    inside_count = 0\n",
    "    outside_count = 0\n",
    "    if line[0] == '[':\n",
    "        state = \"inside\"\n",
    "        line = ''.join(line[1:])\n",
    "        \n",
    "    while continue_parse == True:\n",
    "        if state == \"outside\":\n",
    "            line = line.split('[',1)\n",
    "            if validateSSL(line[0],ssl_out_map):\n",
    "                outside_count += 1\n",
    "            line = ''.join(line[1:])\n",
    "            if ']' in line:\n",
    "                state = \"inside\"\n",
    "            else:\n",
    "                line = line.split('[')\n",
    "        elif state == \"inside\":\n",
    "            line = line.split(']',1)\n",
    "            if validateSSL(line[0],ssl_in_map):\n",
    "                inside_count += 1\n",
    "            line = ''.join(line[1:])\n",
    "            state = \"outside\"\n",
    "        continue_parse = '[' in line or ']' in line\n",
    "    if validateSSL(line,ssl_out_map):\n",
    "        outside_count += 1\n",
    "        \n",
    "    print ssl_out_map\n",
    "    for key,entry in ssl_in_map.iteritems():\n",
    "        if entry in ssl_out_map:\n",
    "            supports_SSL += 1\n",
    "print 'Supports SSL: ' + str(supports_SSL)\n"
   ]
  },
  {
   "cell_type": "code",
   "execution_count": null,
   "metadata": {
    "collapsed": true
   },
   "outputs": [],
   "source": []
  }
 ],
 "metadata": {
  "kernelspec": {
   "display_name": "Python 2",
   "language": "python",
   "name": "python2"
  },
  "language_info": {
   "codemirror_mode": {
    "name": "ipython",
    "version": 2
   },
   "file_extension": ".py",
   "mimetype": "text/x-python",
   "name": "python",
   "nbconvert_exporter": "python",
   "pygments_lexer": "ipython2",
   "version": "2.7.6"
  }
 },
 "nbformat": 4,
 "nbformat_minor": 0
}
