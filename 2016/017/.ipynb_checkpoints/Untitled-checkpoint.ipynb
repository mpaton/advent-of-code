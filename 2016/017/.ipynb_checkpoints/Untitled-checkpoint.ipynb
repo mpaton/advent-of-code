{
 "cells": [
  {
   "cell_type": "code",
   "execution_count": 16,
   "metadata": {
    "collapsed": false
   },
   "outputs": [
    {
     "name": "stderr",
     "output_type": "stream",
     "text": [
      "/usr/local/lib/python2.7/dist-packages/ipykernel/__main__.py:8: DeprecationWarning: the md5 module is deprecated; use hashlib instead\n"
     ]
    }
   ],
   "source": [
    "import pandas as pd\n",
    "import numpy as np\n",
    "import math\n",
    "import collections\n",
    "import re\n",
    "import sys\n",
    "import itertools\n",
    "import md5"
   ]
  },
  {
   "cell_type": "code",
   "execution_count": 17,
   "metadata": {
    "collapsed": false
   },
   "outputs": [],
   "source": [
    "def validmove(pos,floorplan,visited):\n",
    "    if pos[0] >= map_size or pos[1] >= map_size:\n",
    "        return False\n",
    "    \n",
    "    if pos[0] < 0  or pos[1] < 0:\n",
    "        return False\n",
    "    \n",
    "    if floorplan[pos[0],pos[1]] == 0 and pos not in visited:\n",
    "        return True\n",
    "    else:\n",
    "        return False"
   ]
  },
  {
   "cell_type": "code",
   "execution_count": 86,
   "metadata": {
    "collapsed": false
   },
   "outputs": [],
   "source": [
    "class node:\n",
    "    def __init__(self,position,code='',depth=0):\n",
    "        self.code = code\n",
    "        self.position = position\n",
    "        self.depth = depth\n",
    "        \n",
    "    def generateValidMoves(self):\n",
    "        boundary = 3\n",
    "        valid_moves = []\n",
    "        m = md5.new()\n",
    "        m.update(self.code)\n",
    "        key = m.hexdigest()\n",
    "        if self.position == (3,3):\n",
    "            return valid_moves\n",
    "        \n",
    "        ## check up \n",
    "        ## check a\n",
    "        if len(re.findall('[b-f]',key[0])) > 0:\n",
    "            # check for boundary\n",
    "            new_pos = (self.position[0],self.position[1]-1)\n",
    "            if new_pos[1] <= boundary and new_pos[1] >= 0:\n",
    "                valid_moves.append(node(new_pos,self.code + 'U',self.depth + 1))\n",
    "        \n",
    "        if len(re.findall('[b-f]',key[1])) > 0:\n",
    "            # check for boundary\n",
    "            new_pos = (self.position[0],self.position[1]+1)\n",
    "            if new_pos[1] <= boundary and new_pos[1] >= 0:\n",
    "                valid_moves.append(node(new_pos,self.code + 'D',self.depth + 1))\n",
    "                \n",
    "        if len(re.findall('[b-f]',key[2])) > 0:\n",
    "            # check for boundary\n",
    "            new_pos = (self.position[0]-1,self.position[1])\n",
    "            if new_pos[0] <= boundary and new_pos[0] >= 0:\n",
    "                valid_moves.append(node(new_pos,self.code + 'L',self.depth + 1))\n",
    "                \n",
    "        if len(re.findall('[b-f]',key[3])) > 0:\n",
    "            # check for boundary\n",
    "            new_pos = (self.position[0]+1,self.position[1])\n",
    "            if new_pos[0] <= boundary and new_pos[0] >= 0:\n",
    "                valid_moves.append(node(new_pos,self.code + 'R',self.depth + 1))\n",
    "                      \n",
    "        return valid_moves\n",
    "    \n",
    "    def cost(self,goal):\n",
    "        manhattan_dist = abs(self.position[0]-goal[0]) + abs(self.position[1]-goal[1])\n",
    "        return manhattan_dist + self.depth"
   ]
  },
  {
   "cell_type": "code",
   "execution_count": 87,
   "metadata": {
    "collapsed": false
   },
   "outputs": [
    {
     "name": "stdout",
     "output_type": "stream",
     "text": [
      "(0, 0)\n",
      "(0, 1)\n",
      "(1, 0)\n",
      "(0, 2)\n",
      "(1, 1)\n",
      "(1, 1)\n",
      "(2, 0)\n",
      "(0, 3)\n",
      "(2, 1)\n",
      "(3, 0)\n",
      "(0, 0)\n",
      "(0, 1)\n",
      "(1, 0)\n",
      "(1, 0)\n",
      "(0, 2)\n",
      "(2, 0)\n",
      "(1, 1)\n",
      "(2, 0)\n",
      "(1, 1)\n",
      "(1, 2)\n",
      "(3, 0)\n",
      "(3, 1)\n",
      "(3, 2)\n",
      "(0, 0)\n",
      "(0, 1)\n",
      "(1, 0)\n",
      "(0, 1)\n",
      "(1, 1)\n",
      "(2, 2)\n",
      "(0, 2)\n",
      "(1, 1)\n",
      "(1, 2)\n",
      "(2, 3)\n",
      "(3, 2)\n",
      "(1, 3)\n",
      "(3, 3)\n",
      "goal achieved: awrkjxxrRDURRDDLRD 10\n"
     ]
    }
   ],
   "source": [
    "from heapq import *\n",
    "\n",
    "pq = []                         # list of entries arranged in a heap\n",
    "entry_finder = {}               # mapping of tasks to entries\n",
    "REMOVED = '<removed-task>'      # placeholder for a removed task\n",
    "counter = itertools.count()     # unique sequence count\n",
    "\n",
    "def add_task(task, priority=0):\n",
    "    'Add a new task or update the priority of an existing task'\n",
    "    if task in entry_finder:\n",
    "        remove_task(task)\n",
    "    count = next(counter)\n",
    "    entry = [priority, count, task]\n",
    "    entry_finder[task] = entry\n",
    "    heappush(pq, entry)\n",
    "\n",
    "def remove_task(task):\n",
    "    'Mark an existing task as REMOVED.  Raise KeyError if not found.'\n",
    "    entry = entry_finder.pop(task)\n",
    "    entry[-1] = REMOVED\n",
    "\n",
    "def pop_task():\n",
    "    'Remove and return the lowest priority task. Raise KeyError if empty.'\n",
    "    while pq:\n",
    "        priority, count, task = heappop(pq)\n",
    "        if task is not REMOVED:\n",
    "            del entry_finder[task]\n",
    "            return task\n",
    "    raise KeyError('pop from an empty priority queue')\n",
    "    \n",
    "\n",
    "goal = (3,3)\n",
    "\n",
    "visited = []\n",
    "\n",
    "passcode = 'awrkjxxr'\n",
    "root = node((0,0),passcode)\n",
    "goal = (3,3)\n",
    "idx = 0\n",
    "goal_reached = False\n",
    "add_task(root,root.cost(goal))\n",
    "while goal_reached == False and idx < 1000:\n",
    "    currentnode = pop_task()\n",
    "    #print currentnode.position\n",
    "    if currentnode.position == goal:\n",
    "        print 'goal achieved: ' + currentnode.code + ' ' + str(currentnode.depth)\n",
    "        #break\n",
    "    else:\n",
    "        moves = currentnode.generateValidMoves()\n",
    "        for move in moves:\n",
    "            add_task(move,move.cost(goal))\n",
    "    idx += 1"
   ]
  },
  {
   "cell_type": "code",
   "execution_count": 81,
   "metadata": {
    "collapsed": false
   },
   "outputs": [
    {
     "name": "stdout",
     "output_type": "stream",
     "text": [
      "root \n",
      "68\n"
     ]
    },
    {
     "ename": "TypeError",
     "evalue": "generateValidMoves() takes exactly 1 argument (3 given)",
     "output_type": "error",
     "traceback": [
      "\u001b[1;31m---------------------------------------------------------------------------\u001b[0m",
      "\u001b[1;31mTypeError\u001b[0m                                 Traceback (most recent call last)",
      "\u001b[1;32m<ipython-input-81-2d451112a73f>\u001b[0m in \u001b[0;36m<module>\u001b[1;34m()\u001b[0m\n\u001b[0;32m     43\u001b[0m \u001b[1;32mwhile\u001b[0m \u001b[0mgoalreached\u001b[0m \u001b[1;33m==\u001b[0m \u001b[0mFalse\u001b[0m\u001b[1;33m:\u001b[0m\u001b[1;33m\u001b[0m\u001b[0m\n\u001b[0;32m     44\u001b[0m     \u001b[0mcurrentnode\u001b[0m \u001b[1;33m=\u001b[0m \u001b[0mpop_task\u001b[0m\u001b[1;33m(\u001b[0m\u001b[1;33m)\u001b[0m\u001b[1;33m\u001b[0m\u001b[0m\n\u001b[1;32m---> 45\u001b[1;33m     \u001b[0mmoves\u001b[0m \u001b[1;33m=\u001b[0m \u001b[0mcurrentnode\u001b[0m\u001b[1;33m.\u001b[0m\u001b[0mgenerateValidMoves\u001b[0m\u001b[1;33m(\u001b[0m\u001b[0mgoal\u001b[0m\u001b[1;33m,\u001b[0m\u001b[0mvisited\u001b[0m\u001b[1;33m)\u001b[0m\u001b[1;33m\u001b[0m\u001b[0m\n\u001b[0m\u001b[0;32m     46\u001b[0m \u001b[1;33m\u001b[0m\u001b[0m\n\u001b[0;32m     47\u001b[0m     \u001b[1;32mfor\u001b[0m \u001b[0mmove\u001b[0m \u001b[1;32min\u001b[0m \u001b[0mmoves\u001b[0m\u001b[1;33m:\u001b[0m\u001b[1;33m\u001b[0m\u001b[0m\n",
      "\u001b[1;31mTypeError\u001b[0m: generateValidMoves() takes exactly 1 argument (3 given)"
     ]
    }
   ],
   "source": [
    "\n",
    "from heapq import *\n",
    "\n",
    "pq = []                         # list of entries arranged in a heap\n",
    "entry_finder = {}               # mapping of tasks to entries\n",
    "REMOVED = '<removed-task>'      # placeholder for a removed task\n",
    "counter = itertools.count()     # unique sequence count\n",
    "\n",
    "def add_task(task, priority=0):\n",
    "    'Add a new task or update the priority of an existing task'\n",
    "    if task in entry_finder:\n",
    "        remove_task(task)\n",
    "    count = next(counter)\n",
    "    entry = [priority, count, task]\n",
    "    entry_finder[task] = entry\n",
    "    heappush(pq, entry)\n",
    "\n",
    "def remove_task(task):\n",
    "    'Mark an existing task as REMOVED.  Raise KeyError if not found.'\n",
    "    entry = entry_finder.pop(task)\n",
    "    entry[-1] = REMOVED\n",
    "\n",
    "def pop_task():\n",
    "    'Remove and return the lowest priority task. Raise KeyError if empty.'\n",
    "    while pq:\n",
    "        priority, count, task = heappop(pq)\n",
    "        if task is not REMOVED:\n",
    "            del entry_finder[task]\n",
    "            return task\n",
    "    raise KeyError('pop from an empty priority queue')\n",
    "    \n",
    "\n",
    "goal = (31,39)\n",
    "\n",
    "root = node((1,1))\n",
    "visited = []\n",
    "\n",
    "add_task(root,root.cost(goal))\n",
    "print \"root \"\n",
    "print root.cost(goal)\n",
    "goalreached = False\n",
    "fifty_goals = []\n",
    "while goalreached == False:\n",
    "    currentnode = pop_task()\n",
    "    moves = currentnode.generateValidMoves(goal,visited)\n",
    "    \n",
    "    for move in moves:\n",
    "        if move.depth <= 50:\n",
    "            print move.position\n",
    "            add_task(move,move.cost(goal))\n",
    "            \n",
    "    if currentnode.position == goal:\n",
    "        print \"at goal, moves: \" + str(currentnode.depth)\n",
    "        break\n",
    "\n",
    "    if currentnode.position not in visited:\n",
    "        visited.append(currentnode.position)\n",
    "    print len(visited)"
   ]
  },
  {
   "cell_type": "code",
   "execution_count": null,
   "metadata": {
    "collapsed": true
   },
   "outputs": [],
   "source": []
  },
  {
   "cell_type": "code",
   "execution_count": null,
   "metadata": {
    "collapsed": true
   },
   "outputs": [],
   "source": []
  }
 ],
 "metadata": {
  "kernelspec": {
   "display_name": "Python 2",
   "language": "python",
   "name": "python2"
  },
  "language_info": {
   "codemirror_mode": {
    "name": "ipython",
    "version": 2
   },
   "file_extension": ".py",
   "mimetype": "text/x-python",
   "name": "python",
   "nbconvert_exporter": "python",
   "pygments_lexer": "ipython2",
   "version": "2.7.6"
  }
 },
 "nbformat": 4,
 "nbformat_minor": 0
}
