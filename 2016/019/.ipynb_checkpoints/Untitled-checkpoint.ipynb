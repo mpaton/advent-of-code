{
 "cells": [
  {
   "cell_type": "code",
   "execution_count": 2,
   "metadata": {
    "collapsed": false
   },
   "outputs": [],
   "source": [
    "import pandas as pd\n",
    "import numpy as np\n",
    "import math\n",
    "import collections\n",
    "import re\n",
    "import sys\n",
    "import itertools\n",
    "from collections import OrderedDict"
   ]
  },
  {
   "cell_type": "code",
   "execution_count": 3,
   "metadata": {
    "collapsed": false
   },
   "outputs": [
    {
     "name": "stdout",
     "output_type": "stream",
     "text": [
      "3005290\n",
      "OrderedDict([(1816277, 3005290)])\n"
     ]
    }
   ],
   "source": [
    "input_size = 3005290\n",
    "elves = OrderedDict()\n",
    "\n",
    "for i in range(1,input_size+1):\n",
    "    elves[i] = 1\n",
    "    \n",
    "print len(elves)\n",
    "\n",
    "\n",
    "wraparound = False\n",
    "last_elf = -1\n",
    "while len(elves) > 1:\n",
    "    for elf,presents in elves.iteritems():\n",
    "        if wraparound:\n",
    "           # print 'elf ' + str(last_elf) + ' taking presents from elf ' + str(elf)\n",
    "            elves[last_elf] += presents\n",
    "            elves.pop(elf)\n",
    "            wraparound = False\n",
    "        else:\n",
    "            prev_elf, next_elf, key = elves._OrderedDict__map[elf]\n",
    "            if presents <= 0:\n",
    "                continue\n",
    "            if next_elf[2]:\n",
    "               # print 'elf ' + str(elf) + ' taking presents from elf ' + str(next_elf[2])\n",
    "                elves[elf] += elves[next_elf[2]]\n",
    "                elves.pop(next_elf[2])\n",
    "            else:\n",
    "                last_elf = elf\n",
    "                wraparound = True\n",
    "        \n",
    "\n",
    "print elves"
   ]
  },
  {
   "cell_type": "code",
   "execution_count": 3,
   "metadata": {
    "collapsed": false
   },
   "outputs": [
    {
     "name": "stdout",
     "output_type": "stream",
     "text": [
      "finished distributing presents.... now the madness begins\n",
      "[2]\n"
     ]
    }
   ],
   "source": [
    "input_size = 3005290\n",
    "elves = range(1,input_size+1)\n",
    "\n",
    "print \"finished distributing presents.... now the madness begins\"\n",
    "elf_idx = 0\n",
    "while len(elves) > 1:\n",
    "  for elf_idx in range(1+(len(elves)/2)):\n",
    "    if len(elves) > 1:\n",
    "        idx = ((len(elves)/2) + elf_idx) % len(elves)\n",
    "        elves = elves[0:idx] + elves[idx+1:]\n",
    "    elf_idx += 1\n",
    "print elves"
   ]
  },
  {
   "cell_type": "code",
   "execution_count": null,
   "metadata": {
    "collapsed": true
   },
   "outputs": [],
   "source": []
  }
 ],
 "metadata": {
  "kernelspec": {
   "display_name": "Python 2",
   "language": "python",
   "name": "python2"
  },
  "language_info": {
   "codemirror_mode": {
    "name": "ipython",
    "version": 2
   },
   "file_extension": ".py",
   "mimetype": "text/x-python",
   "name": "python",
   "nbconvert_exporter": "python",
   "pygments_lexer": "ipython2",
   "version": "2.7.6"
  }
 },
 "nbformat": 4,
 "nbformat_minor": 0
}
