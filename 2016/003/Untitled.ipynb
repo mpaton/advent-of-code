{
 "cells": [
  {
   "cell_type": "code",
   "execution_count": 122,
   "metadata": {
    "collapsed": true
   },
   "outputs": [],
   "source": [
    "import pandas as pd\n",
    "import numpy as np\n",
    "import math"
   ]
  },
  {
   "cell_type": "code",
   "execution_count": 123,
   "metadata": {
    "collapsed": false
   },
   "outputs": [],
   "source": [
    "data = pd.read_csv('./triangles.txt',header=None,delim_whitespace=True)"
   ]
  },
  {
   "cell_type": "code",
   "execution_count": 124,
   "metadata": {
    "collapsed": false
   },
   "outputs": [],
   "source": [
    "def possible(t):\n",
    "    # grab the hypotenouse\n",
    "    if t[0] + t[1] <= t[2]:\n",
    "        return False\n",
    "\n",
    "    if t[0] + t[2] <= t[1]:\n",
    "        return False\n",
    "\n",
    "    if t[2] + t[1] <= t[0]:\n",
    "        return False\n",
    "\n",
    "    return True"
   ]
  },
  {
   "cell_type": "code",
   "execution_count": 125,
   "metadata": {
    "collapsed": false
   },
   "outputs": [
    {
     "name": "stdout",
     "output_type": "stream",
     "text": [
      "(1902, 3)\n",
      "982\n"
     ]
    }
   ],
   "source": [
    "count = 0\n",
    "print data.shape\n",
    "for triangle in data.as_matrix()[:,0:3]:\n",
    "    if possible(triangle):\n",
    "        count += 1\n",
    "print count \n",
    "    "
   ]
  },
  {
   "cell_type": "code",
   "execution_count": 127,
   "metadata": {
    "collapsed": false
   },
   "outputs": [
    {
     "name": "stdout",
     "output_type": "stream",
     "text": [
      "1826\n"
     ]
    }
   ],
   "source": [
    "count = 0\n",
    "for i in range(3):\n",
    "    t_mat = data[i].as_matrix()\n",
    "    triangles = np.reshape(t_mat,(t_mat.size/3,3))\n",
    "    for triangle in triangles:\n",
    "        if possible(triangle):\n",
    "            count += 1\n",
    "print count "
   ]
  },
  {
   "cell_type": "code",
   "execution_count": null,
   "metadata": {
    "collapsed": true
   },
   "outputs": [],
   "source": []
  }
 ],
 "metadata": {
  "kernelspec": {
   "display_name": "Python 2",
   "language": "python",
   "name": "python2"
  },
  "language_info": {
   "codemirror_mode": {
    "name": "ipython",
    "version": 2
   },
   "file_extension": ".py",
   "mimetype": "text/x-python",
   "name": "python",
   "nbconvert_exporter": "python",
   "pygments_lexer": "ipython2",
   "version": "2.7.6"
  }
 },
 "nbformat": 4,
 "nbformat_minor": 0
}
