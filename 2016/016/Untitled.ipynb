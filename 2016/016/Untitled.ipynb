{
 "cells": [
  {
   "cell_type": "code",
   "execution_count": 97,
   "metadata": {
    "collapsed": false
   },
   "outputs": [],
   "source": [
    "import pandas as pd\n",
    "import numpy as np\n",
    "import math\n",
    "import collections\n",
    "import re\n",
    "import sys\n",
    "import itertools"
   ]
  },
  {
   "cell_type": "code",
   "execution_count": 118,
   "metadata": {
    "collapsed": false
   },
   "outputs": [
    {
     "name": "stdout",
     "output_type": "stream",
     "text": [
      "0b11100010111110100\n"
     ]
    }
   ],
   "source": [
    "data = 0b11100010111110100\n",
    "print bin(data)"
   ]
  },
  {
   "cell_type": "code",
   "execution_count": 98,
   "metadata": {
    "collapsed": true
   },
   "outputs": [],
   "source": [
    "def computeChecksum(data):\n",
    "    idx = 0\n",
    "    checksum = ''\n",
    "    while idx < len(data):\n",
    "        if data[idx] == data[idx+1]:\n",
    "            checksum += '1'\n",
    "        else: \n",
    "            checksum += '0'\n",
    "        idx += 2\n",
    "    return checksum"
   ]
  },
  {
   "cell_type": "code",
   "execution_count": 113,
   "metadata": {
    "collapsed": false
   },
   "outputs": [
    {
     "name": "stdout",
     "output_type": "stream",
     "text": [
      "final checksum: 01010001101011001\n"
     ]
    }
   ],
   "source": [
    "data = '11100010111110100'\n",
    "size = 35651584\n",
    "\n",
    "while len(data) <= size:\n",
    "    compliment = re.sub('x','0',re.sub('0','1',re.sub('1','x',data[::-1])))\n",
    "    data = data + '0' + compliment\n",
    "    \n",
    "checksum = computeChecksum(data[:size])\n",
    "\n",
    "while len(checksum) % 2 == 0:\n",
    "    checksum = computeChecksum(checksum)\n",
    "    \n",
    "print 'final checksum: ' + checksum"
   ]
  },
  {
   "cell_type": "code",
   "execution_count": null,
   "metadata": {
    "collapsed": true
   },
   "outputs": [],
   "source": []
  }
 ],
 "metadata": {
  "kernelspec": {
   "display_name": "Python 2",
   "language": "python",
   "name": "python2"
  },
  "language_info": {
   "codemirror_mode": {
    "name": "ipython",
    "version": 2
   },
   "file_extension": ".py",
   "mimetype": "text/x-python",
   "name": "python",
   "nbconvert_exporter": "python",
   "pygments_lexer": "ipython2",
   "version": "2.7.6"
  }
 },
 "nbformat": 4,
 "nbformat_minor": 0
}
