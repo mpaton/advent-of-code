{
 "cells": [
  {
   "cell_type": "code",
   "execution_count": 97,
   "metadata": {
    "collapsed": false
   },
   "outputs": [],
   "source": [
    "import pandas as pd\n",
    "import numpy as np\n",
    "import math\n",
    "import collections\n",
    "import re\n",
    "import sys\n",
    "import itertools"
   ]
  },
  {
   "cell_type": "code",
   "execution_count": 98,
   "metadata": {
    "collapsed": true
   },
   "outputs": [],
   "source": [
    "def computeChecksum(data):\n",
    "    idx = 0\n",
    "    checksum = ''\n",
    "    while idx < len(data):\n",
    "        if data[idx] == data[idx+1]:\n",
    "            checksum += '1'\n",
    "        else: \n",
    "            checksum += '0'\n",
    "        idx += 2\n",
    "    return checksum"
   ]
  },
  {
   "cell_type": "code",
   "execution_count": 96,
   "metadata": {
    "collapsed": false
   },
   "outputs": [
    {
     "name": "stdout",
     "output_type": "stream",
     "text": [
      "final checksum: 01010001101011001\n"
     ]
    }
   ],
   "source": [
    "data = '1000'\n",
    "size = 20\n",
    "\n",
    "while len(data) <= size:\n",
    "    compliment = re.sub('1','x',data[::-1])\n",
    "    compliment = re.sub('0','1',compliment)\n",
    "    compliment = re.sub('x','0',compliment)\n",
    "    data += '0' + compliment\n",
    "    \n",
    "data = data[:size]\n",
    "\n",
    "checksum = computeChecksum(data)\n",
    "    \n",
    "while len(checksum) % 2 == 0:\n",
    "    checksum = computeChecksum(checksum)\n",
    "    \n",
    "print 'final checksum: ' + new_checksum"
   ]
  },
  {
   "cell_type": "code",
   "execution_count": null,
   "metadata": {
    "collapsed": true
   },
   "outputs": [],
   "source": []
  }
 ],
 "metadata": {
  "kernelspec": {
   "display_name": "Python 2",
   "language": "python",
   "name": "python2"
  },
  "language_info": {
   "codemirror_mode": {
    "name": "ipython",
    "version": 2
   },
   "file_extension": ".py",
   "mimetype": "text/x-python",
   "name": "python",
   "nbconvert_exporter": "python",
   "pygments_lexer": "ipython2",
   "version": "2.7.6"
  }
 },
 "nbformat": 4,
 "nbformat_minor": 0
}
