{
 "cells": [
  {
   "cell_type": "code",
   "execution_count": 2,
   "metadata": {
    "collapsed": false
   },
   "outputs": [],
   "source": [
    "import pandas as pd\n",
    "import numpy as np\n",
    "import math\n",
    "import collections\n",
    "import re\n",
    "import sys\n",
    "import itertools"
   ]
  },
  {
   "cell_type": "code",
   "execution_count": 33,
   "metadata": {
    "collapsed": false
   },
   "outputs": [],
   "source": [
    "class Node:\n",
    "    def __init__(self):\n",
    "        self.capacity = -1\n",
    "        self.capacity = -1\n",
    "        \n",
    "    def __init__(self,capacity,usage):\n",
    "        self.capacity = capacity\n",
    "        self.usage = usage\n",
    "        \n",
    "    def used(self):\n",
    "        return self.usage\n",
    "    \n",
    "    def avail(self):\n",
    "        return self.capacity - self.usage"
   ]
  },
  {
   "cell_type": "code",
   "execution_count": 34,
   "metadata": {
    "collapsed": false
   },
   "outputs": [
    {
     "name": "stdout",
     "output_type": "stream",
     "text": [
      "85.0\n"
     ]
    }
   ],
   "source": [
    "#cluster = np.matrix(dtype=Node)\n",
    "#cluster.resize((29,33))\n",
    "\n",
    "rows = 29\n",
    "cols = 33\n",
    "cluster = []\n",
    "\n",
    "for i in range(cols):\n",
    "    cluster.append([])\n",
    "    \n",
    "data = pd.read_csv('./input.txt',header=None,delimiter='\\n')\n",
    "lines = [line for line in data.values[2::]]\n",
    "\n",
    "pattern = \"\\w*-x(\\d*)-y(\\d*)\\s*(\\d*)T\\s*(\\d+)\"\n",
    "\n",
    "for line in lines:\n",
    "    result = re.search(pattern, line[0])\n",
    "    \n",
    "    row = int(result.group(1))\n",
    "    col = int(result.group(2))\n",
    "    capacity = float(result.group(3))\n",
    "    usage = float(result.group(4))\n",
    "    #print row,col\n",
    "    cluster[col].append(Node(capacity,usage))\n",
    "    \n",
    "print cluster[0][0].capacity"
   ]
  },
  {
   "cell_type": "code",
   "execution_count": 38,
   "metadata": {
    "collapsed": false
   },
   "outputs": [
    {
     "name": "stdout",
     "output_type": "stream",
     "text": [
      "viable pairs: 924\n"
     ]
    }
   ],
   "source": [
    "viable = 0\n",
    "for rowa in range(rows):\n",
    "    for cola in range(cols):\n",
    "        nodea = cluster[rowa][cola]\n",
    "        \n",
    "        for rowb in range(rows):\n",
    "            for colb in range(cols):\n",
    "                if rowa != rowb or cola != colb:\n",
    "                    nodeb = cluster[rowb][colb]\n",
    "                    if nodea.used() > 0 and nodea.used() <= nodeb.avail():\n",
    "                        viable += 1\n",
    "                        \n",
    "print 'viable pairs: ' + str(viable)\n",
    "                    "
   ]
  },
  {
   "cell_type": "code",
   "execution_count": null,
   "metadata": {
    "collapsed": true
   },
   "outputs": [],
   "source": []
  }
 ],
 "metadata": {
  "kernelspec": {
   "display_name": "Python 2",
   "language": "python",
   "name": "python2"
  },
  "language_info": {
   "codemirror_mode": {
    "name": "ipython",
    "version": 2
   },
   "file_extension": ".py",
   "mimetype": "text/x-python",
   "name": "python",
   "nbconvert_exporter": "python",
   "pygments_lexer": "ipython2",
   "version": "2.7.6"
  }
 },
 "nbformat": 4,
 "nbformat_minor": 0
}
