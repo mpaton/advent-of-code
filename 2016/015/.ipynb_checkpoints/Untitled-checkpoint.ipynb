{
 "cells": [
  {
   "cell_type": "code",
   "execution_count": 2,
   "metadata": {
    "collapsed": false
   },
   "outputs": [],
   "source": [
    "import pandas as pd\n",
    "import numpy as np\n",
    "import math\n",
    "import collections\n",
    "import re\n",
    "import sys\n",
    "import itertools"
   ]
  },
  {
   "cell_type": "code",
   "execution_count": 35,
   "metadata": {
    "collapsed": false
   },
   "outputs": [],
   "source": [
    "class Disc:\n",
    "    def __init__(self,size,zero_position):\n",
    "        self.size = size\n",
    "        self.zero_position = zero_position\n",
    "    \n",
    "    def position(self,time):\n",
    "        return (self.zero_position + (time % self.size)) % self.size"
   ]
  },
  {
   "cell_type": "code",
   "execution_count": 39,
   "metadata": {
    "collapsed": false
   },
   "outputs": [
    {
     "name": "stdout",
     "output_type": "stream",
     "text": [
      "time = 0\n",
      "0\n",
      "1\n",
      " \n",
      "time = 1\n",
      "1\n",
      "0\n",
      " \n",
      "time = 2\n",
      "2\n",
      "1\n",
      " \n",
      "time = 3\n",
      "3\n",
      "0\n",
      " \n",
      "time = 4\n",
      "4\n",
      "1\n",
      " \n",
      "time = 5\n",
      "0\n",
      "0\n",
      " \n",
      "success!! 5\n"
     ]
    }
   ],
   "source": [
    "\n",
    "data = pd.read_csv('./example.txt',header=None,delimiter='\\n')\n",
    "commands = [line[0].split(' ') for line in data.values]\n",
    "\n",
    "discs = []\n",
    "for command in commands:\n",
    "    size = int(command[3])\n",
    "    zero_position = int(command[-1:][0][0])\n",
    "    discs.append(Disc(size,zero_position))\n",
    "    \n",
    "success = False\n",
    "\n",
    "idx = 0\n",
    "while success == False and idx < 10:\n",
    "    t = idx + 1 \n",
    "   # print 'time = ' + str(idx)\n",
    "    success = True\n",
    "    for disc in discs:\n",
    "       # print disc.position(t)\n",
    "        if disc.position(t) != 0:\n",
    "            success = False\n",
    "        t+=1\n",
    "    print ' '\n",
    "    if success:\n",
    "        print 'success!! ' + str(idx)\n",
    "    idx +=1"
   ]
  },
  {
   "cell_type": "code",
   "execution_count": 32,
   "metadata": {
    "collapsed": false
   },
   "outputs": [
    {
     "name": "stdout",
     "output_type": "stream",
     "text": [
      "167e722226fcc54b76ba11add75ea3fd\n"
     ]
    }
   ],
   "source": [
    "print keys[15496]"
   ]
  },
  {
   "cell_type": "code",
   "execution_count": null,
   "metadata": {
    "collapsed": true
   },
   "outputs": [],
   "source": []
  }
 ],
 "metadata": {
  "kernelspec": {
   "display_name": "Python 2",
   "language": "python",
   "name": "python2"
  },
  "language_info": {
   "codemirror_mode": {
    "name": "ipython",
    "version": 2
   },
   "file_extension": ".py",
   "mimetype": "text/x-python",
   "name": "python",
   "nbconvert_exporter": "python",
   "pygments_lexer": "ipython2",
   "version": "2.7.6"
  }
 },
 "nbformat": 4,
 "nbformat_minor": 0
}
