{
 "cells": [
  {
   "cell_type": "code",
   "execution_count": 2,
   "metadata": {
    "collapsed": false
   },
   "outputs": [],
   "source": [
    "import pandas as pd\n",
    "import numpy as np\n",
    "import math\n",
    "import collections\n",
    "import re\n",
    "import sys\n",
    "import itertools"
   ]
  },
  {
   "cell_type": "code",
   "execution_count": 35,
   "metadata": {
    "collapsed": false
   },
   "outputs": [],
   "source": [
    "class Disc:\n",
    "    def __init__(self,size,zero_position):\n",
    "        self.size = size\n",
    "        self.zero_position = zero_position\n",
    "    \n",
    "    def position(self,time):\n",
    "        return (self.zero_position + (time % self.size)) % self.size"
   ]
  },
  {
   "cell_type": "code",
   "execution_count": 45,
   "metadata": {
    "collapsed": false
   },
   "outputs": [
    {
     "name": "stdout",
     "output_type": "stream",
     "text": [
      "success!! 3543984\n"
     ]
    }
   ],
   "source": [
    "\n",
    "data = pd.read_csv('./input.txt',header=None,delimiter='\\n')\n",
    "commands = [line[0].split(' ') for line in data.values]\n",
    "\n",
    "discs = []\n",
    "for command in commands:\n",
    "    size = int(command[3])\n",
    "    zero_position = int(command[-1:][0][0])\n",
    "    discs.append(Disc(size,zero_position))\n",
    "  \n",
    "discs.append(Disc(11,0))\n",
    "\n",
    "success = False\n",
    "\n",
    "idx = 0\n",
    "while success == False:\n",
    "    t = idx + 1 \n",
    "    success = True\n",
    "    for disc in discs:\n",
    "        if disc.position(t) != 0:\n",
    "            success = False\n",
    "        t+=1\n",
    "    if success:\n",
    "        print 'success!! ' + str(idx)\n",
    "    idx +=1"
   ]
  }
 ],
 "metadata": {
  "kernelspec": {
   "display_name": "Python 2",
   "language": "python",
   "name": "python2"
  },
  "language_info": {
   "codemirror_mode": {
    "name": "ipython",
    "version": 2
   },
   "file_extension": ".py",
   "mimetype": "text/x-python",
   "name": "python",
   "nbconvert_exporter": "python",
   "pygments_lexer": "ipython2",
   "version": "2.7.6"
  }
 },
 "nbformat": 4,
 "nbformat_minor": 0
}
