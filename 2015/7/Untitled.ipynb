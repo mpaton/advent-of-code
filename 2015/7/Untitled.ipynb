{
 "cells": [
  {
   "cell_type": "code",
   "execution_count": 21,
   "metadata": {
    "collapsed": true
   },
   "outputs": [],
   "source": [
    "import pandas as pd\n",
    "import numpy as np\n",
    "import math\n",
    "import collections"
   ]
  },
  {
   "cell_type": "code",
   "execution_count": 22,
   "metadata": {
    "collapsed": false
   },
   "outputs": [],
   "source": [
    "data = pd.read_csv('./input.txt',header=None,delim_whitespace=False)"
   ]
  },
  {
   "cell_type": "code",
   "execution_count": 23,
   "metadata": {
    "collapsed": false
   },
   "outputs": [],
   "source": [
    "def processgate1(command,var1,var2):\n",
    "    if command == \"AND\":\n",
    "        return var1 & var2\n",
    "    elif command == \"OR\":\n",
    "        return var1 | var2\n",
    "    elif command == 'LSHIFT':\n",
    "        return var1 << var2\n",
    "    elif command == 'RSHIFT':\n",
    "        return var1 >> var2\n",
    "    else:\n",
    "        print \"unkown command \" + command\n",
    "    print var1 + command + var2"
   ]
  },
  {
   "cell_type": "code",
   "execution_count": 24,
   "metadata": {
    "collapsed": false
   },
   "outputs": [],
   "source": [
    "def processgate2(command,var):\n",
    "    if command == \"NOT\":\n",
    "        return ~var\n",
    "    else:\n",
    "        print \"unknown command: \" + command"
   ]
  },
  {
   "cell_type": "code",
   "execution_count": 25,
   "metadata": {
    "collapsed": false
   },
   "outputs": [
    {
     "name": "stdout",
     "output_type": "stream",
     "text": [
      "lines completed 0/339\n",
      "lines completed 9/339\n",
      "lines completed 10/339\n",
      "lines completed 14/339\n",
      "lines completed 17/339\n",
      "lines completed 19/339\n",
      "lines completed 23/339\n",
      "lines completed 30/339\n",
      "lines completed 31/339\n",
      "lines completed 34/339\n",
      "lines completed 35/339\n",
      "lines completed 41/339\n",
      "lines completed 47/339\n",
      "lines completed 50/339\n",
      "lines completed 53/339\n",
      "lines completed 56/339\n",
      "lines completed 61/339\n",
      "lines completed 62/339\n",
      "lines completed 67/339\n",
      "lines completed 72/339\n",
      "lines completed 74/339\n",
      "lines completed 77/339\n",
      "lines completed 80/339\n",
      "lines completed 81/339\n",
      "lines completed 82/339\n",
      "lines completed 86/339\n",
      "lines completed 89/339\n",
      "lines completed 93/339\n",
      "lines completed 96/339\n",
      "lines completed 99/339\n",
      "lines completed 101/339\n",
      "lines completed 103/339\n",
      "lines completed 104/339\n",
      "lines completed 106/339\n",
      "lines completed 110/339\n",
      "lines completed 116/339\n",
      "lines completed 118/339\n",
      "lines completed 119/339\n",
      "lines completed 122/339\n",
      "lines completed 124/339\n",
      "lines completed 126/339\n",
      "lines completed 129/339\n",
      "lines completed 134/339\n",
      "lines completed 136/339\n",
      "lines completed 139/339\n",
      "lines completed 142/339\n",
      "lines completed 145/339\n",
      "lines completed 147/339\n",
      "lines completed 154/339\n",
      "lines completed 158/339\n",
      "lines completed 162/339\n",
      "lines completed 166/339\n",
      "lines completed 168/339\n",
      "lines completed 173/339\n",
      "lines completed 176/339\n",
      "lines completed 177/339\n",
      "lines completed 178/339\n",
      "lines completed 181/339\n",
      "lines completed 184/339\n",
      "lines completed 188/339\n",
      "lines completed 192/339\n",
      "lines completed 196/339\n",
      "lines completed 198/339\n",
      "lines completed 203/339\n",
      "lines completed 206/339\n",
      "lines completed 208/339\n",
      "lines completed 209/339\n",
      "lines completed 217/339\n",
      "lines completed 219/339\n",
      "lines completed 220/339\n",
      "lines completed 224/339\n",
      "lines completed 227/339\n",
      "lines completed 228/339\n",
      "lines completed 230/339\n",
      "lines completed 235/339\n",
      "lines completed 241/339\n",
      "lines completed 243/339\n",
      "lines completed 244/339\n",
      "lines completed 248/339\n",
      "lines completed 249/339\n",
      "lines completed 250/339\n",
      "lines completed 252/339\n",
      "lines completed 254/339\n",
      "lines completed 259/339\n",
      "lines completed 264/339\n",
      "lines completed 267/339\n",
      "lines completed 269/339\n",
      "lines completed 271/339\n",
      "lines completed 277/339\n",
      "lines completed 283/339\n",
      "lines completed 284/339\n",
      "lines completed 286/339\n",
      "lines completed 287/339\n",
      "lines completed 288/339\n",
      "lines completed 291/339\n",
      "lines completed 294/339\n",
      "lines completed 298/339\n",
      "lines completed 302/339\n",
      "lines completed 304/339\n",
      "lines completed 306/339\n",
      "lines completed 309/339\n",
      "lines completed 311/339\n",
      "lines completed 313/339\n",
      "lines completed 315/339\n",
      "lines completed 324/339\n",
      "lines completed 329/339\n",
      "lines completed 331/339\n",
      "lines completed 335/339\n",
      "lines completed 337/339\n",
      "2797\n"
     ]
    }
   ],
   "source": [
    "wiremap = {}\n",
    "linecompletion = {}\n",
    "## while there are still more lines to complete\n",
    "while len(linecompletion) != data[0].size:\n",
    "    print \"lines completed \" + str(len(linecompletion)) + \"/\" + str(data[0].size)\n",
    "    for line in data[0]:\n",
    "        command = line.split('->',2)[0]\n",
    "        leftvar = ''.join(line.split('->',2)[1].split())\n",
    "        command = command.split(' ')\n",
    "        commandtype = len(command)\n",
    "        if commandtype == 2:\n",
    "            if command[0].isdigit():\n",
    "                wiremap[leftvar] = int(command[0])\n",
    "                linecompletion[line] = True\n",
    "            elif ''.join(command[0]).split()[0] in wiremap:\n",
    "                wiremap[leftvar] = wiremap[''.join(command[0]).split()[0]]\n",
    "                linecompletion[line] = True\n",
    "        elif commandtype == 4:\n",
    "            key1 = ''.join(command[0]).split()[0]\n",
    "            key2 = ''.join(command[2]).split()[0]\n",
    "            valid = True\n",
    "            if key1.isdigit():\n",
    "                var1 = int(key1)\n",
    "            elif key1 in wiremap:\n",
    "                var1 = wiremap[key1]\n",
    "            else:\n",
    "                valid = False\n",
    "                \n",
    "            if key2.isdigit():\n",
    "                var2 = int(key2)\n",
    "            elif key2 in wiremap:\n",
    "                var2 = wiremap[key2]\n",
    "            else:\n",
    "                valid = False\n",
    "                \n",
    "            if valid == True:\n",
    "                wiremap[leftvar] = processgate1(command[1],var1,var2) & 0x0000ffff\n",
    "                linecompletion[line] = True\n",
    "                \n",
    "        elif commandtype == 3:\n",
    "            valid = True\n",
    "            key = ''.join(command[1]).split()[0]\n",
    "            if key.isdigit():\n",
    "                var1 = int(digit)\n",
    "            elif key in wiremap:\n",
    "                var1 = wiremap[key]\n",
    "            else:\n",
    "                valid = False\n",
    "            \n",
    "            if valid == True:\n",
    "                wiremap[leftvar] = processgate2(command[0],var1) & 0x0000ffff\n",
    "                linecompletion[line] = True\n",
    "print wiremap['a']"
   ]
  },
  {
   "cell_type": "code",
   "execution_count": null,
   "metadata": {
    "collapsed": true
   },
   "outputs": [],
   "source": []
  },
  {
   "cell_type": "code",
   "execution_count": null,
   "metadata": {
    "collapsed": true
   },
   "outputs": [],
   "source": []
  }
 ],
 "metadata": {
  "kernelspec": {
   "display_name": "Python 2",
   "language": "python",
   "name": "python2"
  },
  "language_info": {
   "codemirror_mode": {
    "name": "ipython",
    "version": 2
   },
   "file_extension": ".py",
   "mimetype": "text/x-python",
   "name": "python",
   "nbconvert_exporter": "python",
   "pygments_lexer": "ipython2",
   "version": "2.7.6"
  }
 },
 "nbformat": 4,
 "nbformat_minor": 0
}
