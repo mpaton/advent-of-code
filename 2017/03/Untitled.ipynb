{
 "cells": [
  {
   "cell_type": "code",
   "execution_count": 214,
   "metadata": {
    "collapsed": true
   },
   "outputs": [],
   "source": [
    "import pandas as pd\n",
    "import numpy as np\n",
    "import math"
   ]
  },
  {
   "cell_type": "code",
   "execution_count": null,
   "metadata": {
    "collapsed": true
   },
   "outputs": [],
   "source": [
    "0   1    2   3  4\n",
    "1   3    5   7  9"
   ]
  },
  {
   "cell_type": "code",
   "execution_count": 53,
   "metadata": {
    "collapsed": false
   },
   "outputs": [
    {
     "data": {
      "text/plain": [
       "[3, 5, 7, 9]"
      ]
     },
     "execution_count": 53,
     "metadata": {},
     "output_type": "execute_result"
    }
   ],
   "source": [
    "[idx*2+1 for idx in range(1,5)]"
   ]
  },
  {
   "cell_type": "code",
   "execution_count": 208,
   "metadata": {
    "collapsed": false
   },
   "outputs": [
    {
     "name": "stdout",
     "output_type": "stream",
     "text": [
      "269 539\n"
     ]
    }
   ],
   "source": [
    "key = 289326\n",
    "idx = 0\n",
    "rowfound = False\n",
    "while(rowfound == False):\n",
    "    row = idx*2+1\n",
    "    if (row*row >= key):\n",
    "        rowfound = True\n",
    "    else:\n",
    "        idx+=1\n",
    "print idx,row\n",
    "last = row*row\n",
    "\n",
    "keyidx = (last-key)\n",
    "size = row*row-(row-2)*(row-2)"
   ]
  },
  {
   "cell_type": "code",
   "execution_count": 209,
   "metadata": {
    "collapsed": false
   },
   "outputs": [
    {
     "name": "stdout",
     "output_type": "stream",
     "text": [
      "last elem: 290521\n",
      "ring size: 2152\n",
      "square idx 269\n",
      "key idx 1195\n"
     ]
    }
   ],
   "source": [
    "print \"last elem: \" + str(last)\n",
    "print \"ring size: \" + str(size)\n",
    "print \"square idx \" + str(idx)\n",
    "print \"key idx \" + str(keyidx) "
   ]
  },
  {
   "cell_type": "code",
   "execution_count": 210,
   "metadata": {
    "collapsed": false
   },
   "outputs": [],
   "source": [
    "steps = range(row/2+1)\n",
    "steps = [step for step in reversed(steps)]+steps[1:]\n",
    "steps = steps + steps[1:] + steps[1:] + steps[1:-1]\n"
   ]
  },
  {
   "cell_type": "code",
   "execution_count": 211,
   "metadata": {
    "collapsed": false
   },
   "outputs": [
    {
     "name": "stdout",
     "output_type": "stream",
     "text": [
      "150\n"
     ]
    }
   ],
   "source": [
    "print steps[keyidx]"
   ]
  },
  {
   "cell_type": "code",
   "execution_count": 212,
   "metadata": {
    "collapsed": false
   },
   "outputs": [
    {
     "name": "stdout",
     "output_type": "stream",
     "text": [
      "419\n"
     ]
    }
   ],
   "source": [
    "dist = row/2 + 150\n",
    "print dist"
   ]
  },
  {
   "cell_type": "code",
   "execution_count": 288,
   "metadata": {
    "collapsed": false
   },
   "outputs": [],
   "source": [
    "def sprialstep(x,y,blocksize,direction):\n",
    "    corner = blocksize/2\n",
    "    #print'check'\n",
    "    if abs(x) == corner and abs(y) == corner:\n",
    "        direction = (direction+1)%4\n",
    "        if direction == 1:\n",
    "            blocksize+=2\n",
    "            x+=1\n",
    "            #print 'increment'\n",
    "            return (x,y,blocksize,direction)\n",
    "        #print 'change direction ' + str(direction)\n",
    "    ## it's not time to change direction\n",
    "    if direction == 0:\n",
    "        x+=1\n",
    "    elif direction == 1:\n",
    "        y+=1\n",
    "    elif direction == 2:\n",
    "        x-=1\n",
    "    else:\n",
    "        y-=1\n",
    "    return (x,y,blocksize,direction)"
   ]
  },
  {
   "cell_type": "code",
   "execution_count": 299,
   "metadata": {
    "collapsed": true
   },
   "outputs": [],
   "source": [
    "def neighborsum(x,y,mat):\n",
    "    val = 0\n",
    "    val += mat[x+1,y]\n",
    "    val += mat[x-1,y]\n",
    "    val += mat[x,y+1]\n",
    "    val += mat[x,y-1]\n",
    "    val += mat[x-1,y-1]\n",
    "    val += mat[x+1,y+1]\n",
    "    val += mat[x-1,y+1]\n",
    "    val += mat[x+1,y-1]\n",
    "    return val"
   ]
  },
  {
   "cell_type": "code",
   "execution_count": 319,
   "metadata": {
    "collapsed": false
   },
   "outputs": [
    {
     "name": "stdout",
     "output_type": "stream",
     "text": [
      "1.0\n",
      "2.0\n",
      "4.0\n",
      "5.0\n",
      "10.0\n",
      "11.0\n",
      "23.0\n",
      "25.0\n",
      "26.0\n",
      "54.0\n",
      "57.0\n",
      "59.0\n",
      "122.0\n",
      "133.0\n",
      "142.0\n",
      "147.0\n",
      "304.0\n",
      "330.0\n",
      "351.0\n",
      "362.0\n",
      "747.0\n",
      "806.0\n",
      "880.0\n",
      "931.0\n",
      "957.0\n",
      "1968.0\n",
      "2105.0\n",
      "2275.0\n",
      "2391.0\n",
      "2450.0\n",
      "5022.0\n",
      "5336.0\n",
      "5733.0\n",
      "6155.0\n",
      "6444.0\n",
      "6591.0\n",
      "13486.0\n",
      "14267.0\n",
      "15252.0\n",
      "16295.0\n",
      "17008.0\n",
      "17370.0\n",
      "35487.0\n",
      "37402.0\n",
      "39835.0\n",
      "42452.0\n",
      "45220.0\n",
      "47108.0\n",
      "48065.0\n",
      "98098.0\n",
      "103128.0\n",
      "109476.0\n",
      "116247.0\n",
      "123363.0\n",
      "128204.0\n",
      "130654.0\n",
      "266330.0\n",
      "279138.0\n",
      "295229.0\n"
     ]
    }
   ],
   "source": [
    "N = 10001\n",
    "mat = np.zeros(shape=(N,N))\n",
    "offset = N/2\n",
    "row = 0+offset\n",
    "col = 0+offset\n",
    "mat.itemset((row,col),1)\n",
    "\n",
    "x=1\n",
    "y=0\n",
    "steps\n",
    "blocksize = 3\n",
    "direction = 1\n",
    "curr = 0\n",
    "while curr < key:\n",
    "    # compute sum\n",
    "    xi = x+offset\n",
    "    yi = y+offset\n",
    "    val = 0\n",
    "    val += mat[xi+1,yi]\n",
    "    val += mat[xi-1,yi]\n",
    "    val += mat[xi,yi+1]\n",
    "    val += mat[xi,yi-1]\n",
    "    val += mat[xi-1,yi-1]\n",
    "    val += mat[xi+1,yi+1]\n",
    "    val += mat[xi-1,yi+1]\n",
    "    val += mat[xi+1,yi-1]\n",
    "    mat.itemset((xi,yi),val)\n",
    "    curr = mat[xi,yi]\n",
    "    print curr\n",
    "    x,y,blocksize,direction =  sprialstep(x,y,blocksize,direction)"
   ]
  },
  {
   "cell_type": "code",
   "execution_count": 240,
   "metadata": {
    "collapsed": false
   },
   "outputs": [
    {
     "data": {
      "text/plain": [
       "1"
      ]
     },
     "execution_count": 240,
     "metadata": {},
     "output_type": "execute_result"
    }
   ],
   "source": [
    "289326"
   ]
  }
 ],
 "metadata": {
  "kernelspec": {
   "display_name": "Python 2",
   "language": "python",
   "name": "python2"
  },
  "language_info": {
   "codemirror_mode": {
    "name": "ipython",
    "version": 2
   },
   "file_extension": ".py",
   "mimetype": "text/x-python",
   "name": "python",
   "nbconvert_exporter": "python",
   "pygments_lexer": "ipython2",
   "version": "2.7.6"
  }
 },
 "nbformat": 4,
 "nbformat_minor": 0
}
