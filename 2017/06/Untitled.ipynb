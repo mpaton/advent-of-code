{
 "cells": [
  {
   "cell_type": "code",
   "execution_count": 1,
   "metadata": {
    "collapsed": true
   },
   "outputs": [],
   "source": [
    "import pandas as pd\n",
    "import numpy as np\n",
    "import math\n",
    "from collections import Counter\n",
    "import operator"
   ]
  },
  {
   "cell_type": "code",
   "execution_count": 23,
   "metadata": {
    "collapsed": false
   },
   "outputs": [
    {
     "name": "stdout",
     "output_type": "stream",
     "text": [
      "[0, 5, 10, 0, 11, 14, 13, 4, 11, 8, 8, 7, 1, 4, 12, 11]\n",
      "[0, 5, 10, 0, 11, 14, 13, 4, 11, 8, 8, 7, 1, 4, 12, 11]\n",
      "[0, 5, 10, 0, 11, 14, 13, 4, 11, 8, 8, 7, 1, 4, 12, 11]\n",
      "[0, 5, 10, 0, 11, 14, 13, 4, 11, 8, 8, 7, 1, 4, 12, 11]\n",
      "[0, 5, 10, 0, 11, 14, 13, 4, 11, 8, 8, 7, 1, 4, 12, 11]\n",
      "[0, 5, 10, 0, 11, 14, 13, 4, 11, 8, 8, 7, 1, 4, 12, 11]\n",
      "[0, 5, 10, 0, 11, 14, 13, 4, 11, 8, 8, 7, 1, 4, 12, 11]\n"
     ]
    }
   ],
   "source": [
    "banks = []\n",
    "with open('./input.txt') as f:\n",
    "    lines = f.readlines()\n",
    "banks = [int(char) for char in lines[0].split()]\n",
    "print banks"
   ]
  },
  {
   "cell_type": "code",
   "execution_count": 16,
   "metadata": {
    "collapsed": true
   },
   "outputs": [],
   "source": [
    "banks = [0, 2, 7,0]"
   ]
  },
  {
   "cell_type": "code",
   "execution_count": 25,
   "metadata": {
    "collapsed": true
   },
   "outputs": [],
   "source": [
    "def redistribute(banks):\n",
    "    # get max value\n",
    "    maxval = max(banks)\n",
    "    maxvals = [(idx,val) for idx,val in enumerate(banks) if val == maxval]\n",
    "    startidx = maxvals[0][0]\n",
    "    val = maxvals[0][1]\n",
    "    banks[startidx] = 0\n",
    "    \n",
    "    while val > 0:\n",
    "        startidx+=1\n",
    "        banks[startidx%len(banks)] +=1\n",
    "        val -= 1\n",
    "    return banks"
   ]
  },
  {
   "cell_type": "code",
   "execution_count": 26,
   "metadata": {
    "collapsed": true
   },
   "outputs": [],
   "source": [
    "knownconfigs = []\n",
    "knownconfigs.append(list(banks))\n",
    "count = 0"
   ]
  },
  {
   "cell_type": "code",
   "execution_count": 27,
   "metadata": {
    "collapsed": false
   },
   "outputs": [
    {
     "name": "stdout",
     "output_type": "stream",
     "text": [
      "7864\n",
      "7864\n",
      "7864\n",
      "7864\n",
      "7864\n",
      "7864\n",
      "7864\n"
     ]
    }
   ],
   "source": [
    "\n",
    "while True:\n",
    "    banks = redistribute(list(banks))\n",
    "    count += 1 \n",
    "    if banks in knownconfigs:\n",
    "        break\n",
    "    else:\n",
    "        knownconfigs.append(banks)\n",
    "      \n",
    "print count"
   ]
  },
  {
   "cell_type": "code",
   "execution_count": 28,
   "metadata": {
    "collapsed": false
   },
   "outputs": [
    {
     "name": "stdout",
     "output_type": "stream",
     "text": [
      "[10, 9, 8, 7, 6, 5, 4, 3, 1, 1, 0, 15, 14, 13, 11, 12]\n",
      "[10, 9, 8, 7, 6, 5, 4, 3, 1, 1, 0, 15, 14, 13, 11, 12]\n",
      "[10, 9, 8, 7, 6, 5, 4, 3, 1, 1, 0, 15, 14, 13, 11, 12]\n",
      "[10, 9, 8, 7, 6, 5, 4, 3, 1, 1, 0, 15, 14, 13, 11, 12]\n",
      "[10, 9, 8, 7, 6, 5, 4, 3, 1, 1, 0, 15, 14, 13, 11, 12]\n",
      "[10, 9, 8, 7, 6, 5, 4, 3, 1, 1, 0, 15, 14, 13, 11, 12]\n",
      "[10, 9, 8, 7, 6, 5, 4, 3, 1, 1, 0, 15, 14, 13, 11, 12]\n"
     ]
    }
   ],
   "source": [
    "print banks\n",
    "knownconfigs = []\n",
    "knownconfigs.append(list(banks))\n",
    "count = 0"
   ]
  },
  {
   "cell_type": "code",
   "execution_count": 29,
   "metadata": {
    "collapsed": false
   },
   "outputs": [
    {
     "name": "stdout",
     "output_type": "stream",
     "text": [
      "1695\n",
      "1695\n",
      "1695\n",
      "1695\n",
      "1695\n",
      "1695\n",
      "1695\n"
     ]
    }
   ],
   "source": [
    "while True:\n",
    "    banks = redistribute(list(banks))\n",
    "    count += 1 \n",
    "    if banks in knownconfigs:\n",
    "        break\n",
    "    else:\n",
    "        knownconfigs.append(banks)\n",
    "      \n",
    "print count"
   ]
  }
 ],
 "metadata": {
  "kernelspec": {
   "display_name": "Python 2",
   "language": "python",
   "name": "python2"
  },
  "language_info": {
   "codemirror_mode": {
    "name": "ipython",
    "version": 2
   },
   "file_extension": ".py",
   "mimetype": "text/x-python",
   "name": "python",
   "nbconvert_exporter": "python",
   "pygments_lexer": "ipython2",
   "version": "2.7.6"
  }
 },
 "nbformat": 4,
 "nbformat_minor": 0
}
