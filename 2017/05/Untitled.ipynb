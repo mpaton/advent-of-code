{
 "cells": [
  {
   "cell_type": "code",
   "execution_count": 1,
   "metadata": {
    "collapsed": true
   },
   "outputs": [],
   "source": [
    "import pandas as pd\n",
    "import numpy as np\n",
    "import math\n",
    "from collections import Counter"
   ]
  },
  {
   "cell_type": "code",
   "execution_count": 27,
   "metadata": {
    "collapsed": false
   },
   "outputs": [],
   "source": [
    "instructions = []\n",
    "with open('./input.txt') as f:\n",
    "    lines = f.readlines()\n",
    "for line in lines:\n",
    "    instructions.append(int(line))"
   ]
  },
  {
   "cell_type": "code",
   "execution_count": 28,
   "metadata": {
    "collapsed": false
   },
   "outputs": [
    {
     "name": "stdout",
     "output_type": "stream",
     "text": [
      "27477714\n"
     ]
    }
   ],
   "source": [
    "pointer = 0\n",
    "steps = 0\n",
    "while pointer >= 0 and pointer < len(instructions):\n",
    "    jump = instructions[pointer]\n",
    "    if jump >= 3:\n",
    "        instructions[pointer] -= 1\n",
    "    else:\n",
    "        instructions[pointer] +=1\n",
    "    pointer += jump\n",
    "    steps+=1\n",
    "print steps"
   ]
  },
  {
   "cell_type": "code",
   "execution_count": 63,
   "metadata": {
    "collapsed": false
   },
   "outputs": [
    {
     "name": "stdout",
     "output_type": "stream",
     "text": [
      "208\n"
     ]
    }
   ],
   "source": [
    "valid = 0\n",
    "for line in lines:\n",
    "    line = [''.join(sorted(char)) for char in line.split()]\n",
    "    #line = line.split()\n",
    "    if len(line) == len(set(line)):\n",
    "        valid+=1\n",
    "print valid"
   ]
  }
 ],
 "metadata": {
  "kernelspec": {
   "display_name": "Python 2",
   "language": "python",
   "name": "python2"
  },
  "language_info": {
   "codemirror_mode": {
    "name": "ipython",
    "version": 2
   },
   "file_extension": ".py",
   "mimetype": "text/x-python",
   "name": "python",
   "nbconvert_exporter": "python",
   "pygments_lexer": "ipython2",
   "version": "2.7.6"
  }
 },
 "nbformat": 4,
 "nbformat_minor": 0
}
