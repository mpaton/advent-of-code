{
 "cells": [
  {
   "cell_type": "code",
   "execution_count": 20,
   "metadata": {
    "collapsed": true
   },
   "outputs": [],
   "source": [
    "import pandas as pd\n",
    "import numpy as np\n",
    "import math"
   ]
  },
  {
   "cell_type": "code",
   "execution_count": 48,
   "metadata": {
    "collapsed": false
   },
   "outputs": [],
   "source": [
    "data = pd.read_csv('./input.txt',header=None,delim_whitespace=True).as_matrix()[0][0]"
   ]
  },
  {
   "cell_type": "code",
   "execution_count": 51,
   "metadata": {
    "collapsed": false
   },
   "outputs": [
    {
     "name": "stdout",
     "output_type": "stream",
     "text": [
      "captcha: 1177\n"
     ]
    }
   ],
   "source": [
    "captcha = 0\n",
    "#stepsize = 1\n",
    "stepsize = len(data)/2\n",
    "for elem in enumerate(data):\n",
    "    idx = elem[0]\n",
    "    char = elem[1]\n",
    "    if idx < len(data)-1:\n",
    "        nextchar = data[idx+1]\n",
    "    else:\n",
    "        nextchar = data[0]\n",
    "        \n",
    "    if char == nextchar:\n",
    "        captcha+=int(nextchar)\n",
    "        \n",
    "print 'captcha: ' + str(captcha)"
   ]
  },
  {
   "cell_type": "code",
   "execution_count": null,
   "metadata": {
    "collapsed": true
   },
   "outputs": [],
   "source": []
  }
 ],
 "metadata": {
  "kernelspec": {
   "display_name": "Python 2",
   "language": "python",
   "name": "python2"
  },
  "language_info": {
   "codemirror_mode": {
    "name": "ipython",
    "version": 2
   },
   "file_extension": ".py",
   "mimetype": "text/x-python",
   "name": "python",
   "nbconvert_exporter": "python",
   "pygments_lexer": "ipython2",
   "version": "2.7.6"
  }
 },
 "nbformat": 4,
 "nbformat_minor": 0
}
