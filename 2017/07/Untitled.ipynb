{
 "cells": [
  {
   "cell_type": "code",
   "execution_count": 87,
   "metadata": {
    "collapsed": false
   },
   "outputs": [],
   "source": [
    "import pandas as pd\n",
    "import numpy as np\n",
    "import math\n",
    "from collections import Counter\n",
    "import operator\n",
    "import Queue"
   ]
  },
  {
   "cell_type": "code",
   "execution_count": 88,
   "metadata": {
    "collapsed": true
   },
   "outputs": [],
   "source": [
    "nodes = {}"
   ]
  },
  {
   "cell_type": "code",
   "execution_count": 128,
   "metadata": {
    "collapsed": false
   },
   "outputs": [],
   "source": [
    "class Node:\n",
    "    def __init__(self,tag,weight,children):\n",
    "        self.tag = tag\n",
    "        self.weight = weight\n",
    "        self.children = children\n",
    "        "
   ]
  },
  {
   "cell_type": "code",
   "execution_count": 129,
   "metadata": {
    "collapsed": false
   },
   "outputs": [],
   "source": [
    "banks = []\n",
    "with open('./input.txt') as f:\n",
    "    lines = f.readlines()\n",
    "\n",
    "programs = []\n",
    "childprograms = []\n",
    "for line in lines:\n",
    "    splitline = line.split('->')\n",
    "    parent = splitline[0].split(' ')[0]\n",
    "    weight = int(splitline[0].split(' ')[1].replace(\"(\",\"\").replace(\")\",\"\"))\n",
    "    programs.append(parent)\n",
    "    children = []\n",
    "    if len(splitline) > 1:\n",
    "        children = [node[1:].replace(\"\\n\",\"\") for node in splitline[1].split(',')]\n",
    "        for child in children:\n",
    "            childprograms.append(child) \n",
    "    nodes[parent] = Node(parent,weight,list(children))\n",
    "#print childprograms\n",
    "root = (set(programs) - set(childprograms)).pop()"
   ]
  },
  {
   "cell_type": "code",
   "execution_count": 138,
   "metadata": {
    "collapsed": false
   },
   "outputs": [
    {
     "name": "stdout",
     "output_type": "stream",
     "text": [
      "hvpess 2090\n",
      "nuozixg 2090\n",
      "tshyvej 2090\n",
      "yfxbu 2090\n",
      "kiatxq 2096\n",
      "[2090, 2090, 2090, 2090, 2096]\n",
      "set([2096, 2090])\n"
     ]
    }
   ],
   "source": [
    "tovisit = Queue.LifoQueue()\n",
    "childweights = []\n",
    "for child in nodes['vwkkml'].children:\n",
    "    weight = 0\n",
    "    tovisit = Queue.Queue()\n",
    "    tovisit.put(nodes[child])\n",
    "    \n",
    "    while tovisit.empty() == False:\n",
    "        node = tovisit.get()\n",
    "        weight+= node.weight\n",
    "        for nodechild in node.children:\n",
    "            tovisit.put(nodes[nodechild])\n",
    "    print child,weight\n",
    "    childweights.append(weight)\n",
    "print childweights   \n",
    "print set(childweights)"
   ]
  },
  {
   "cell_type": "code",
   "execution_count": 141,
   "metadata": {
    "collapsed": false
   },
   "outputs": [
    {
     "name": "stdout",
     "output_type": "stream",
     "text": [
      "1226\n"
     ]
    }
   ],
   "source": [
    "diff = 159246-159240\n",
    "print nodes['kiatxq'].weight - diff"
   ]
  }
 ],
 "metadata": {
  "kernelspec": {
   "display_name": "Python 2",
   "language": "python",
   "name": "python2"
  },
  "language_info": {
   "codemirror_mode": {
    "name": "ipython",
    "version": 2
   },
   "file_extension": ".py",
   "mimetype": "text/x-python",
   "name": "python",
   "nbconvert_exporter": "python",
   "pygments_lexer": "ipython2",
   "version": "2.7.6"
  }
 },
 "nbformat": 4,
 "nbformat_minor": 0
}
