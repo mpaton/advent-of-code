{
 "cells": [
  {
   "cell_type": "code",
   "execution_count": 2,
   "metadata": {
    "collapsed": true
   },
   "outputs": [],
   "source": [
    "import pandas as pd\n",
    "import numpy as np\n",
    "import math"
   ]
  },
  {
   "cell_type": "code",
   "execution_count": 151,
   "metadata": {
    "collapsed": false
   },
   "outputs": [],
   "source": [
    "data = pd.read_csv('./input.txt',header=None,delim_whitespace=True).as_matrix()"
   ]
  },
  {
   "cell_type": "code",
   "execution_count": 152,
   "metadata": {
    "collapsed": false,
    "scrolled": true
   },
   "outputs": [
    {
     "name": "stdout",
     "output_type": "stream",
     "text": [
      "42299\n",
      "277\n"
     ]
    }
   ],
   "source": [
    "checksum = 0\n",
    "checksum2 = 0\n",
    "for row in data:\n",
    "    #print row\n",
    "    for idx,first in enumerate(row):\n",
    "        for second in row[idx+1:]:\n",
    "            if ((second%first ==0) or (first%second == 0)):\n",
    "                nums = (first,second)\n",
    "                checksum2 += max(nums)/min(nums)\n",
    "    minval = min(row)\n",
    "    maxval = max(row)\n",
    "    checksum += maxval-minval\n",
    "    \n",
    "print checksum\n",
    "print checksum2"
   ]
  }
 ],
 "metadata": {
  "kernelspec": {
   "display_name": "Python 2",
   "language": "python",
   "name": "python2"
  },
  "language_info": {
   "codemirror_mode": {
    "name": "ipython",
    "version": 2
   },
   "file_extension": ".py",
   "mimetype": "text/x-python",
   "name": "python",
   "nbconvert_exporter": "python",
   "pygments_lexer": "ipython2",
   "version": "2.7.6"
  }
 },
 "nbformat": 4,
 "nbformat_minor": 0
}
