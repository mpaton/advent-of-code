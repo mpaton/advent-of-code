{
 "cells": [
  {
   "cell_type": "code",
   "execution_count": 3,
   "metadata": {
    "collapsed": false
   },
   "outputs": [],
   "source": [
    "import pandas as pd\n",
    "import numpy as np\n",
    "import math\n",
    "from collections import Counter\n",
    "import operator\n",
    "import Queue"
   ]
  },
  {
   "cell_type": "code",
   "execution_count": null,
   "metadata": {
    "collapsed": true
   },
   "outputs": [],
   "source": []
  },
  {
   "cell_type": "code",
   "execution_count": 4,
   "metadata": {
    "collapsed": true
   },
   "outputs": [],
   "source": [
    "with open('./input.txt') as f:\n",
    "    lines = f.readlines()"
   ]
  },
  {
   "cell_type": "code",
   "execution_count": 40,
   "metadata": {
    "collapsed": false
   },
   "outputs": [
    {
     "name": "stdout",
     "output_type": "stream",
     "text": [
      "{{<>},{<>},{<>},{<>}}\n",
      "2 3\n",
      "5 6\n",
      "8 9\n",
      "11 12\n",
      "-1 -1\n",
      "{{},{},{},{}}\n"
     ]
    }
   ],
   "source": [
    "test = '{{<!!>},{<!!>},{<!!>},{<!!>}}'\n",
    "count = 0\n",
    "exfound = True\n",
    "while True:\n",
    "    ex = test.find('!')\n",
    "    if ex == -1:\n",
    "        break\n",
    "    else:\n",
    "        test = test[:ex] + test[ex+2:]\n",
    "print test\n",
    "\n",
    "while True:\n",
    "    start =  test.find('<')\n",
    "    end = test.find('>')\n",
    "    print start,end\n",
    "    if start == -1 or end == -1:\n",
    "        break\n",
    "    else:\n",
    "        test = test[:start] + test[end+1:]\n",
    "print test\n",
    "\n"
   ]
  },
  {
   "cell_type": "code",
   "execution_count": 44,
   "metadata": {
    "collapsed": false
   },
   "outputs": [
    {
     "name": "stdout",
     "output_type": "stream",
     "text": [
      "{{},{},{},{}}\n",
      "[0, 1, 4, 7, 10] [2, 5, 8, 11, 12]\n"
     ]
    }
   ],
   "source": [
    "print test\n",
    "starts = [idx for idx,char in enumerate(test) if char == '{']\n",
    "ends = [idx for idx,char in enumerate(test) if char == '}']\n",
    "\n",
    "score = 0\n",
    "level = 0\n",
    "endidx = 0\n",
    "for startidx in range(len(starts)):\n",
    "    start = starts[startidx]\n",
    "    end = ends[endidx]\n",
    "    \n",
    "    starts[start+1] > end:\n",
    "print starts,ends"
   ]
  },
  {
   "cell_type": "code",
   "execution_count": 55,
   "metadata": {
    "collapsed": false
   },
   "outputs": [
    {
     "name": "stdout",
     "output_type": "stream",
     "text": [
      "4877 5471\n"
     ]
    }
   ],
   "source": [
    "registers = {}\n",
    "maxvalue = -1\n",
    "for line in lines:\n",
    "    splitline = line.split('if')\n",
    "    instruction = splitline[0]\n",
    "    reg = instruction.split()[0]\n",
    "    command = instruction.split()[1]\n",
    "    val = int(instruction.split()[2])\n",
    "    condition = splitline[1]\n",
    "    condreg = condition.split()[0]\n",
    "    cond = condition.split()[1]\n",
    "    condval = int(condition.split()[2])\n",
    "    if condreg not in registers.keys():\n",
    "        registers[condreg] = 0\n",
    "    if reg not in registers.keys():\n",
    "        registers[reg] = 0\n",
    "    ## check if condition is true\n",
    "    \n",
    "    conditioncheck = False\n",
    "    if condreg not in registers:\n",
    "        break;\n",
    "        \n",
    "    ## check less\n",
    "    if cond == '<' and registers[condreg] < condval:\n",
    "        conditioncheck = True\n",
    "    elif cond == '<=' and registers[condreg] <= condval:\n",
    "        conditioncheck = True\n",
    "    elif cond == '>' and registers[condreg] > condval:\n",
    "        conditioncheck = True\n",
    "    elif cond == '>=' and registers[condreg] >= condval:\n",
    "        conditioncheck = True\n",
    "    elif cond == '==' and registers[condreg] == condval:\n",
    "        conditioncheck = True\n",
    "    elif cond == '!=' and registers[condreg] != condval:\n",
    "        conditioncheck = True\n",
    "    \n",
    "    \n",
    "    if conditioncheck == True:\n",
    "        if command == 'inc':\n",
    "            registers[reg] += val\n",
    "        elif command == 'dec':\n",
    "            registers[reg] -= val\n",
    "        if registers[reg] > maxvalue:\n",
    "            maxvalue = registers[reg]\n",
    "print max(registers.values()),maxvalue\n",
    "    "
   ]
  },
  {
   "cell_type": "code",
   "execution_count": 128,
   "metadata": {
    "collapsed": false
   },
   "outputs": [],
   "source": [
    "class Node:\n",
    "    def __init__(self,tag,weight,children):\n",
    "        self.tag = tag\n",
    "        self.weight = weight\n",
    "        self.children = children\n",
    "        "
   ]
  },
  {
   "cell_type": "code",
   "execution_count": 129,
   "metadata": {
    "collapsed": false
   },
   "outputs": [],
   "source": [
    "banks = []\n",
    "with open('./input.txt') as f:\n",
    "    lines = f.readlines()\n",
    "\n",
    "programs = []\n",
    "childprograms = []\n",
    "for line in lines:\n",
    "    splitline = line.split('->')\n",
    "    parent = splitline[0].split(' ')[0]\n",
    "    weight = int(splitline[0].split(' ')[1].replace(\"(\",\"\").replace(\")\",\"\"))\n",
    "    programs.append(parent)\n",
    "    children = []\n",
    "    if len(splitline) > 1:\n",
    "        children = [node[1:].replace(\"\\n\",\"\") for node in splitline[1].split(',')]\n",
    "        for child in children:\n",
    "            childprograms.append(child) \n",
    "    nodes[parent] = Node(parent,weight,list(children))\n",
    "#print childprograms\n",
    "root = (set(programs) - set(childprograms)).pop()"
   ]
  },
  {
   "cell_type": "code",
   "execution_count": 138,
   "metadata": {
    "collapsed": false
   },
   "outputs": [
    {
     "name": "stdout",
     "output_type": "stream",
     "text": [
      "hvpess 2090\n",
      "nuozixg 2090\n",
      "tshyvej 2090\n",
      "yfxbu 2090\n",
      "kiatxq 2096\n",
      "[2090, 2090, 2090, 2090, 2096]\n",
      "set([2096, 2090])\n"
     ]
    }
   ],
   "source": [
    "tovisit = Queue.LifoQueue()\n",
    "childweights = []\n",
    "for child in nodes['vwkkml'].children:\n",
    "    weight = 0\n",
    "    tovisit = Queue.Queue()\n",
    "    tovisit.put(nodes[child])\n",
    "    \n",
    "    while tovisit.empty() == False:\n",
    "        node = tovisit.get()\n",
    "        weight+= node.weight\n",
    "        for nodechild in node.children:\n",
    "            tovisit.put(nodes[nodechild])\n",
    "    print child,weight\n",
    "    childweights.append(weight)\n",
    "print childweights   \n",
    "print set(childweights)"
   ]
  },
  {
   "cell_type": "code",
   "execution_count": 141,
   "metadata": {
    "collapsed": false
   },
   "outputs": [
    {
     "name": "stdout",
     "output_type": "stream",
     "text": [
      "1226\n"
     ]
    }
   ],
   "source": [
    "diff = 159246-159240\n",
    "print nodes['kiatxq'].weight - diff"
   ]
  }
 ],
 "metadata": {
  "kernelspec": {
   "display_name": "Python 2",
   "language": "python",
   "name": "python2"
  },
  "language_info": {
   "codemirror_mode": {
    "name": "ipython",
    "version": 2
   },
   "file_extension": ".py",
   "mimetype": "text/x-python",
   "name": "python",
   "nbconvert_exporter": "python",
   "pygments_lexer": "ipython2",
   "version": "2.7.6"
  }
 },
 "nbformat": 4,
 "nbformat_minor": 0
}
